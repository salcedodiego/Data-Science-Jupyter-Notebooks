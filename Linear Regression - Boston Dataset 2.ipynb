{
 "cells": [
  {
   "cell_type": "markdown",
   "metadata": {},
   "source": [
    "# Linnear Regression Prediction Model"
   ]
  },
  {
   "cell_type": "markdown",
   "metadata": {},
   "source": [
    "In this notebook we'll be working through to **Boston** data set included in Sklearn, with the goal of building a model to predict the **Median Value of owner-occupied homes in $1000’s**. The scope of the model will be limited to **prediction**.\n",
    "\n",
    "Let's start by importing some of the necessary packages and loading the data."
   ]
  },
  {
   "cell_type": "markdown",
   "metadata": {},
   "source": [
    "## Import Packages"
   ]
  },
  {
   "cell_type": "code",
   "execution_count": 1,
   "metadata": {},
   "outputs": [],
   "source": [
    "import pandas as pd\n",
    "import numpy as np\n",
    "import seaborn as sns\n",
    "from sklearn.datasets import load_boston\n",
    "import matplotlib.pyplot as plt\n",
    "import warnings\n",
    "warnings.filterwarnings('ignore')\n",
    "\n",
    "%matplotlib inline\n",
    "\n",
    "sns.set_style('whitegrid')"
   ]
  },
  {
   "cell_type": "markdown",
   "metadata": {},
   "source": [
    "## Loading Data"
   ]
  },
  {
   "cell_type": "code",
   "execution_count": 2,
   "metadata": {},
   "outputs": [],
   "source": [
    "data = load_boston()"
   ]
  },
  {
   "cell_type": "code",
   "execution_count": 3,
   "metadata": {
    "scrolled": true
   },
   "outputs": [
    {
     "data": {
      "text/html": [
       "<div>\n",
       "<style scoped>\n",
       "    .dataframe tbody tr th:only-of-type {\n",
       "        vertical-align: middle;\n",
       "    }\n",
       "\n",
       "    .dataframe tbody tr th {\n",
       "        vertical-align: top;\n",
       "    }\n",
       "\n",
       "    .dataframe thead th {\n",
       "        text-align: right;\n",
       "    }\n",
       "</style>\n",
       "<table border=\"1\" class=\"dataframe\">\n",
       "  <thead>\n",
       "    <tr style=\"text-align: right;\">\n",
       "      <th></th>\n",
       "      <th>CRIM</th>\n",
       "      <th>ZN</th>\n",
       "      <th>INDUS</th>\n",
       "      <th>CHAS</th>\n",
       "      <th>NOX</th>\n",
       "      <th>RM</th>\n",
       "      <th>AGE</th>\n",
       "      <th>DIS</th>\n",
       "      <th>RAD</th>\n",
       "      <th>TAX</th>\n",
       "      <th>PTRATIO</th>\n",
       "      <th>B</th>\n",
       "      <th>LSTAT</th>\n",
       "      <th>y</th>\n",
       "    </tr>\n",
       "  </thead>\n",
       "  <tbody>\n",
       "    <tr>\n",
       "      <th>0</th>\n",
       "      <td>0.00632</td>\n",
       "      <td>18.0</td>\n",
       "      <td>2.31</td>\n",
       "      <td>0.0</td>\n",
       "      <td>0.538</td>\n",
       "      <td>6.575</td>\n",
       "      <td>65.2</td>\n",
       "      <td>4.0900</td>\n",
       "      <td>1.0</td>\n",
       "      <td>296.0</td>\n",
       "      <td>15.3</td>\n",
       "      <td>396.90</td>\n",
       "      <td>4.98</td>\n",
       "      <td>24.0</td>\n",
       "    </tr>\n",
       "    <tr>\n",
       "      <th>1</th>\n",
       "      <td>0.02731</td>\n",
       "      <td>0.0</td>\n",
       "      <td>7.07</td>\n",
       "      <td>0.0</td>\n",
       "      <td>0.469</td>\n",
       "      <td>6.421</td>\n",
       "      <td>78.9</td>\n",
       "      <td>4.9671</td>\n",
       "      <td>2.0</td>\n",
       "      <td>242.0</td>\n",
       "      <td>17.8</td>\n",
       "      <td>396.90</td>\n",
       "      <td>9.14</td>\n",
       "      <td>21.6</td>\n",
       "    </tr>\n",
       "    <tr>\n",
       "      <th>2</th>\n",
       "      <td>0.02729</td>\n",
       "      <td>0.0</td>\n",
       "      <td>7.07</td>\n",
       "      <td>0.0</td>\n",
       "      <td>0.469</td>\n",
       "      <td>7.185</td>\n",
       "      <td>61.1</td>\n",
       "      <td>4.9671</td>\n",
       "      <td>2.0</td>\n",
       "      <td>242.0</td>\n",
       "      <td>17.8</td>\n",
       "      <td>392.83</td>\n",
       "      <td>4.03</td>\n",
       "      <td>34.7</td>\n",
       "    </tr>\n",
       "    <tr>\n",
       "      <th>3</th>\n",
       "      <td>0.03237</td>\n",
       "      <td>0.0</td>\n",
       "      <td>2.18</td>\n",
       "      <td>0.0</td>\n",
       "      <td>0.458</td>\n",
       "      <td>6.998</td>\n",
       "      <td>45.8</td>\n",
       "      <td>6.0622</td>\n",
       "      <td>3.0</td>\n",
       "      <td>222.0</td>\n",
       "      <td>18.7</td>\n",
       "      <td>394.63</td>\n",
       "      <td>2.94</td>\n",
       "      <td>33.4</td>\n",
       "    </tr>\n",
       "    <tr>\n",
       "      <th>4</th>\n",
       "      <td>0.06905</td>\n",
       "      <td>0.0</td>\n",
       "      <td>2.18</td>\n",
       "      <td>0.0</td>\n",
       "      <td>0.458</td>\n",
       "      <td>7.147</td>\n",
       "      <td>54.2</td>\n",
       "      <td>6.0622</td>\n",
       "      <td>3.0</td>\n",
       "      <td>222.0</td>\n",
       "      <td>18.7</td>\n",
       "      <td>396.90</td>\n",
       "      <td>5.33</td>\n",
       "      <td>36.2</td>\n",
       "    </tr>\n",
       "  </tbody>\n",
       "</table>\n",
       "</div>"
      ],
      "text/plain": [
       "      CRIM    ZN  INDUS  CHAS    NOX     RM   AGE     DIS  RAD    TAX  \\\n",
       "0  0.00632  18.0   2.31   0.0  0.538  6.575  65.2  4.0900  1.0  296.0   \n",
       "1  0.02731   0.0   7.07   0.0  0.469  6.421  78.9  4.9671  2.0  242.0   \n",
       "2  0.02729   0.0   7.07   0.0  0.469  7.185  61.1  4.9671  2.0  242.0   \n",
       "3  0.03237   0.0   2.18   0.0  0.458  6.998  45.8  6.0622  3.0  222.0   \n",
       "4  0.06905   0.0   2.18   0.0  0.458  7.147  54.2  6.0622  3.0  222.0   \n",
       "\n",
       "   PTRATIO       B  LSTAT     y  \n",
       "0     15.3  396.90   4.98  24.0  \n",
       "1     17.8  396.90   9.14  21.6  \n",
       "2     17.8  392.83   4.03  34.7  \n",
       "3     18.7  394.63   2.94  33.4  \n",
       "4     18.7  396.90   5.33  36.2  "
      ]
     },
     "execution_count": 3,
     "metadata": {},
     "output_type": "execute_result"
    }
   ],
   "source": [
    "arr = np.column_stack((data['data'], data['target']))\n",
    "# We'll name our endogenous variable as 'y'\n",
    "data_df = pd.DataFrame(arr, columns=list(data['feature_names'])+['y']) \n",
    "df = data_df.copy() \n",
    "df.head()"
   ]
  },
  {
   "cell_type": "markdown",
   "metadata": {},
   "source": [
    "## Endogenous Variable Distribution"
   ]
  },
  {
   "cell_type": "markdown",
   "metadata": {},
   "source": [
    "Now let's check if our endogenous variable follows a normal distribution."
   ]
  },
  {
   "cell_type": "code",
   "execution_count": 4,
   "metadata": {},
   "outputs": [],
   "source": [
    "import statsmodels.api as sm\n",
    "from scipy import stats"
   ]
  },
  {
   "cell_type": "markdown",
   "metadata": {},
   "source": [
    "We'll define a function to plot the distribution and to perform Skewness, Kurtosis and Shapiro-Wilk tests for normality. "
   ]
  },
  {
   "cell_type": "code",
   "execution_count": 5,
   "metadata": {
    "scrolled": false
   },
   "outputs": [],
   "source": [
    "def normal_test_plots(arr, y_label):\n",
    "    fig, ax = plt.subplots(1,2, figsize=(14,5))\n",
    "\n",
    "    sns.distplot(arr, bins=int(len(arr)**.5), ax=ax[0])\n",
    "    ax[0].set_title('Distribution Plot', size=14)\n",
    "    ax[0].set_xlabel(y_label, size=12)\n",
    "    ax[0].axvline(np.mean(arr), ls='--', lw=.9, color='black', label='Mean')\n",
    "    ax[0].legend()\n",
    "    sm.qqplot(arr, fit=False, line='q', ax=ax[1]);\n",
    "    ax[1].set_title('QQ-plot', size=14)\n",
    "\n",
    "    print('Skewness:', stats.skew(arr),\n",
    "          '\\nSkewness Test: Statistic =', stats.skewtest(arr)[0],', p-value =', stats.skewtest(arr)[1],\n",
    "          '\\nExcess Kurtosis:', stats.kurtosis(arr),\n",
    "          '\\nKurtosis Test: Statistic =', stats.kurtosistest(arr)[0], ', p-value =', stats.kurtosistest(arr)[1],\n",
    "          '\\nShapiro-Wilk Test: Statistic =', stats.shapiro(arr)[0], ', p-value =', stats.shapiro(arr)[1])"
   ]
  },
  {
   "cell_type": "code",
   "execution_count": 6,
   "metadata": {},
   "outputs": [
    {
     "name": "stdout",
     "output_type": "stream",
     "text": [
      "Skewness: 1.104810822864635 \n",
      "Skewness Test: Statistic = 8.495940647257724 , p-value = 1.963363120792763e-17 \n",
      "Excess Kurtosis: 1.4686287722747462 \n",
      "Kurtosis Test: Statistic = 4.335167803946083 , p-value = 1.4564897365966999e-05 \n",
      "Shapiro-Wilk Test: Statistic = 0.91717529296875 , p-value = 4.940618243974614e-16\n"
     ]
    },
    {
     "data": {
      "image/png": "[encoded data removed]",
      "text/plain": [
       "<Figure size 1008x360 with 2 Axes>"
      ]
     },
     "metadata": {},
     "output_type": "display_data"
    }
   ],
   "source": [
    "normal_test_plots(df.y, 'Median Value')"
   ]
  },
  {
   "cell_type": "markdown",
   "metadata": {},
   "source": [
    "All the statistical tests for normality rejected that the null hypothesis the data comes from a normal distribution, as all our p-values are less than .05. Looking at our plots it seems that our data is not very symmetric, and starts deviating as the Median Value increases, and there is a pump when the Median Value equals 50.\n",
    "\n",
    "Let's try transforming our response and perform the tests again."
   ]
  },
  {
   "cell_type": "markdown",
   "metadata": {},
   "source": [
    "## BoxCox Transformation"
   ]
  },
  {
   "cell_type": "code",
   "execution_count": 7,
   "metadata": {},
   "outputs": [],
   "source": [
    "from scipy.stats import boxcox\n",
    "y_boxcox= boxcox(df.y)"
   ]
  },
  {
   "cell_type": "code",
   "execution_count": 8,
   "metadata": {},
   "outputs": [
    {
     "name": "stdout",
     "output_type": "stream",
     "text": [
      "Skewness: 0.01583478691187103 \n",
      "Skewness Test: Statistic = 0.14748955595457033 , p-value = 0.8827456227207489 \n",
      "Excess Kurtosis: 0.5193352664240196 \n",
      "Kurtosis Test: Statistic = 2.1193809488662883 , p-value = 0.034058285516800284 \n",
      "Shapiro-Wilk Test: Statistic = 0.980028510093689 , p-value = 2.040514118561987e-06\n"
     ]
    },
    {
     "data": {
      "image/png": "[encoded data removed]",
      "text/plain": [
       "<Figure size 1008x360 with 2 Axes>"
      ]
     },
     "metadata": {},
     "output_type": "display_data"
    }
   ],
   "source": [
    "normal_test_plots(y_boxcox[0], 'Median Value')"
   ]
  },
  {
   "cell_type": "markdown",
   "metadata": {
    "scrolled": true
   },
   "source": [
    "This time we failed to reject the null hypothesis from our skewmess test, while our p-values improved in our other 2 tests. We still can see a bump in the highest Median Values, also making a light tail in our qq-plot. We'll check for outliers in our next steps and use our tranformed endogenous variable for our analysis."
   ]
  },
  {
   "cell_type": "code",
   "execution_count": 9,
   "metadata": {},
   "outputs": [
    {
     "data": {
      "text/html": [
       "<div>\n",
       "<style scoped>\n",
       "    .dataframe tbody tr th:only-of-type {\n",
       "        vertical-align: middle;\n",
       "    }\n",
       "\n",
       "    .dataframe tbody tr th {\n",
       "        vertical-align: top;\n",
       "    }\n",
       "\n",
       "    .dataframe thead th {\n",
       "        text-align: right;\n",
       "    }\n",
       "</style>\n",
       "<table border=\"1\" class=\"dataframe\">\n",
       "  <thead>\n",
       "    <tr style=\"text-align: right;\">\n",
       "      <th></th>\n",
       "      <th>CRIM</th>\n",
       "      <th>ZN</th>\n",
       "      <th>INDUS</th>\n",
       "      <th>CHAS</th>\n",
       "      <th>NOX</th>\n",
       "      <th>RM</th>\n",
       "      <th>AGE</th>\n",
       "      <th>DIS</th>\n",
       "      <th>RAD</th>\n",
       "      <th>TAX</th>\n",
       "      <th>PTRATIO</th>\n",
       "      <th>B</th>\n",
       "      <th>LSTAT</th>\n",
       "      <th>y</th>\n",
       "    </tr>\n",
       "  </thead>\n",
       "  <tbody>\n",
       "    <tr>\n",
       "      <th>0</th>\n",
       "      <td>0.00632</td>\n",
       "      <td>18.0</td>\n",
       "      <td>2.31</td>\n",
       "      <td>0.0</td>\n",
       "      <td>0.538</td>\n",
       "      <td>6.575</td>\n",
       "      <td>65.2</td>\n",
       "      <td>4.0900</td>\n",
       "      <td>1.0</td>\n",
       "      <td>296.0</td>\n",
       "      <td>15.3</td>\n",
       "      <td>396.90</td>\n",
       "      <td>4.98</td>\n",
       "      <td>4.572936</td>\n",
       "    </tr>\n",
       "    <tr>\n",
       "      <th>1</th>\n",
       "      <td>0.02731</td>\n",
       "      <td>0.0</td>\n",
       "      <td>7.07</td>\n",
       "      <td>0.0</td>\n",
       "      <td>0.469</td>\n",
       "      <td>6.421</td>\n",
       "      <td>78.9</td>\n",
       "      <td>4.9671</td>\n",
       "      <td>2.0</td>\n",
       "      <td>242.0</td>\n",
       "      <td>17.8</td>\n",
       "      <td>396.90</td>\n",
       "      <td>9.14</td>\n",
       "      <td>4.365582</td>\n",
       "    </tr>\n",
       "    <tr>\n",
       "      <th>2</th>\n",
       "      <td>0.02729</td>\n",
       "      <td>0.0</td>\n",
       "      <td>7.07</td>\n",
       "      <td>0.0</td>\n",
       "      <td>0.469</td>\n",
       "      <td>7.185</td>\n",
       "      <td>61.1</td>\n",
       "      <td>4.9671</td>\n",
       "      <td>2.0</td>\n",
       "      <td>242.0</td>\n",
       "      <td>17.8</td>\n",
       "      <td>392.83</td>\n",
       "      <td>4.03</td>\n",
       "      <td>5.336943</td>\n",
       "    </tr>\n",
       "    <tr>\n",
       "      <th>3</th>\n",
       "      <td>0.03237</td>\n",
       "      <td>0.0</td>\n",
       "      <td>2.18</td>\n",
       "      <td>0.0</td>\n",
       "      <td>0.458</td>\n",
       "      <td>6.998</td>\n",
       "      <td>45.8</td>\n",
       "      <td>6.0622</td>\n",
       "      <td>3.0</td>\n",
       "      <td>222.0</td>\n",
       "      <td>18.7</td>\n",
       "      <td>394.63</td>\n",
       "      <td>2.94</td>\n",
       "      <td>5.254954</td>\n",
       "    </tr>\n",
       "    <tr>\n",
       "      <th>4</th>\n",
       "      <td>0.06905</td>\n",
       "      <td>0.0</td>\n",
       "      <td>2.18</td>\n",
       "      <td>0.0</td>\n",
       "      <td>0.458</td>\n",
       "      <td>7.147</td>\n",
       "      <td>54.2</td>\n",
       "      <td>6.0622</td>\n",
       "      <td>3.0</td>\n",
       "      <td>222.0</td>\n",
       "      <td>18.7</td>\n",
       "      <td>396.90</td>\n",
       "      <td>5.33</td>\n",
       "      <td>5.428607</td>\n",
       "    </tr>\n",
       "  </tbody>\n",
       "</table>\n",
       "</div>"
      ],
      "text/plain": [
       "      CRIM    ZN  INDUS  CHAS    NOX     RM   AGE     DIS  RAD    TAX  \\\n",
       "0  0.00632  18.0   2.31   0.0  0.538  6.575  65.2  4.0900  1.0  296.0   \n",
       "1  0.02731   0.0   7.07   0.0  0.469  6.421  78.9  4.9671  2.0  242.0   \n",
       "2  0.02729   0.0   7.07   0.0  0.469  7.185  61.1  4.9671  2.0  242.0   \n",
       "3  0.03237   0.0   2.18   0.0  0.458  6.998  45.8  6.0622  3.0  222.0   \n",
       "4  0.06905   0.0   2.18   0.0  0.458  7.147  54.2  6.0622  3.0  222.0   \n",
       "\n",
       "   PTRATIO       B  LSTAT         y  \n",
       "0     15.3  396.90   4.98  4.572936  \n",
       "1     17.8  396.90   9.14  4.365582  \n",
       "2     17.8  392.83   4.03  5.336943  \n",
       "3     18.7  394.63   2.94  5.254954  \n",
       "4     18.7  396.90   5.33  5.428607  "
      ]
     },
     "execution_count": 9,
     "metadata": {},
     "output_type": "execute_result"
    }
   ],
   "source": [
    "df['y'] = y_boxcox[0]\n",
    "df.head()"
   ]
  },
  {
   "cell_type": "markdown",
   "metadata": {},
   "source": [
    "## Full Model "
   ]
  },
  {
   "cell_type": "markdown",
   "metadata": {},
   "source": [
    "We'll proceed to fit a full model using all our observations. We'll just take a quick look at our regression results and move right away to test if our residuals follow a normal distribution."
   ]
  },
  {
   "cell_type": "code",
   "execution_count": 10,
   "metadata": {},
   "outputs": [],
   "source": [
    "import statsmodels.formula.api as smf"
   ]
  },
  {
   "cell_type": "code",
   "execution_count": 11,
   "metadata": {},
   "outputs": [],
   "source": [
    "# Function to obtain formula needed using statsmodels.formula.api\n",
    "def formula_from_cols(df, y):\n",
    "    return y + ' ~ ' + ' + '.join([col for col in df.columns if not col==y])"
   ]
  },
  {
   "cell_type": "code",
   "execution_count": 12,
   "metadata": {},
   "outputs": [
    {
     "data": {
      "text/plain": [
       "'y ~ CRIM + ZN + INDUS + CHAS + NOX + RM + AGE + DIS + RAD + TAX + PTRATIO + B + LSTAT'"
      ]
     },
     "execution_count": 12,
     "metadata": {},
     "output_type": "execute_result"
    }
   ],
   "source": [
    "formula = formula_from_cols(df.drop('y', axis=1),'y')\n",
    "formula"
   ]
  },
  {
   "cell_type": "code",
   "execution_count": 14,
   "metadata": {
    "scrolled": true
   },
   "outputs": [
    {
     "name": "stdout",
     "output_type": "stream",
     "text": [
      "Regression Results: \n",
      "AIC: 433.37195275467366 \n",
      "BIC: 492.54346612469817 \n",
      "Adj. R_sq: 0.7812111450375804\n"
     ]
    }
   ],
   "source": [
    "ols = smf.ols(formula, data=df)\n",
    "model = ols.fit()\n",
    "aic = model.aic\n",
    "bic = model.bic\n",
    "adj_r = model.rsquared_adj\n",
    "\n",
    "print('Regression Results: '\n",
    "      '\\nAIC:', aic, '\\nBIC:', bic, '\\nAdj. R_sq:', adj_r)"
   ]
  },
  {
   "cell_type": "markdown",
   "metadata": {},
   "source": [
    "### Testing Normallity Residuals"
   ]
  },
  {
   "cell_type": "markdown",
   "metadata": {},
   "source": [
    "We'll use externally studentized residuals for our analysis."
   ]
  },
  {
   "cell_type": "code",
   "execution_count": 15,
   "metadata": {},
   "outputs": [],
   "source": [
    "infl = model.get_influence()\n",
    "esr = infl.get_resid_studentized_external()"
   ]
  },
  {
   "cell_type": "code",
   "execution_count": 16,
   "metadata": {},
   "outputs": [
    {
     "name": "stdout",
     "output_type": "stream",
     "text": [
      "Skewness: 0.7963108492302632 \n",
      "Skewness Test: Statistic = 6.596780278515739 , p-value = 4.201827646655176e-11 \n",
      "Excess Kurtosis: 3.2358583012130318 \n",
      "Kurtosis Test: Statistic = 6.619245216382851 , p-value = 3.610375246146443e-11 \n",
      "Shapiro-Wilk Test: Statistic = 0.9472568035125732 , p-value = 1.9205440189573597e-12\n"
     ]
    },
    {
     "data": {
      "image/png": "[encoded data removed]",
      "text/plain": [
       "<Figure size 1008x360 with 2 Axes>"
      ]
     },
     "metadata": {},
     "output_type": "display_data"
    }
   ],
   "source": [
    "normal_test_plots(esr, 'Externally Studentized Residuals')"
   ]
  },
  {
   "cell_type": "markdown",
   "metadata": {},
   "source": [
    "We rejected all our null hypothesis and we have a high excess kurtosis of 3.2. We'll proceed to detect outliers our data.  "
   ]
  },
  {
   "cell_type": "markdown",
   "metadata": {},
   "source": [
    "## Leverage & Outliers"
   ]
  },
  {
   "cell_type": "code",
   "execution_count": 17,
   "metadata": {},
   "outputs": [],
   "source": [
    "lev = infl.hat_matrix_diag*(df.shape[0]/df.shape[1])\n",
    "cooks = infl.cooks_distance[0]\n",
    "y_pred = model.predict(df)"
   ]
  },
  {
   "cell_type": "code",
   "execution_count": 18,
   "metadata": {
    "scrolled": true
   },
   "outputs": [
    {
     "data": {
      "image/png": "[encoded data removed]",
      "text/plain": [
       "<Figure size 1008x360 with 2 Axes>"
      ]
     },
     "metadata": {},
     "output_type": "display_data"
    }
   ],
   "source": [
    "fig, ax = plt.subplots(1,2, figsize=(14,5))\n",
    "\n",
    "ax[0].boxplot(esr)\n",
    "ax[0].set_title('ESR Box Plot', size=14)\n",
    "ax[1].scatter(lev, abs(esr), alpha=.8)\n",
    "ax[1].set_title('Residuals vs Leverage', size=14)\n",
    "ax[1].set_xlabel('Normalized Leverage', size=12)\n",
    "ax[1].set_ylabel('|ESR|', size=12);"
   ]
  },
  {
   "cell_type": "markdown",
   "metadata": {},
   "source": [
    "Our residulas box plot displays several potential outliers on both ends. We can also see some points over 3 standard deviations away from the mean. Our high leverage points are discarded as potential outliers.\n",
    "\n",
    "We'll proceed to run a Generalized ESD to identify the outliers."
   ]
  },
  {
   "cell_type": "markdown",
   "metadata": {},
   "source": [
    "### Generalized ESD Test\n",
    "\n",
    "Our function will perform a Grubb's test for one potential outlier and remove it if we reject the null hypothesis that the data point is not an outlier. It will iterate until we fail to reject the null hypothesis, and return a data frame of the residuals removed and a new data frame of our data without the points idenfied as outliers.\n",
    "\n",
    "For each iteration it will print the following summary:\n",
    "\n",
    "Statistic < Critical Value \n",
    "\n",
    "Studentized Residual Value\n",
    "\n",
    "Mean of Studentized Residuals, Standard Deviation of Studentized Residuals (both for the current iteration)"
   ]
  },
  {
   "cell_type": "code",
   "execution_count": 19,
   "metadata": {},
   "outputs": [],
   "source": [
    "def grubbs_test(x):\n",
    "        \n",
    "    # T-Statistic \n",
    "    xbar = np.mean(x)\n",
    "    Sx = np.std(x, ddof=1)\n",
    "    max_i = np.argmax(abs(x))\n",
    "    ts = abs(x[max_i]-xbar)/Sx\n",
    "    \n",
    "    # Critical Value\n",
    "    n = len(x)\n",
    "    qt_sq = (stats.t.ppf(1-(.05/n), df=n-2))**2\n",
    "    crit_val = ((n-1)/np.sqrt(n)) * (np.sqrt(qt_sq/(n-2+qt_sq)))\n",
    "    \n",
    "    return ts, crit_val, max_i, xbar, Sx\n",
    "\n",
    "def ESD_generalized(df, endo_str):\n",
    "    p = df.shape[1]\n",
    "    esd_ts = .01\n",
    "    esd_crit_val = 0\n",
    "    count = 1 \n",
    "    data_df = df.copy()\n",
    "    oliers_arr = np.empty((1, p))\n",
    "    \n",
    "    formula = endo_str + ' ~ ' + ' + '.join([col for col in data_df.columns if not col==endo_str])\n",
    "    \n",
    "    # Iterate until not outlier is found\n",
    "    while esd_ts > esd_crit_val:\n",
    "        # Fit Model\n",
    "        ols = smf.ols(formula, data=data_df)\n",
    "        model = ols.fit()\n",
    "        infl = model.get_influence()\n",
    "        esr = infl.get_resid_studentized_external()\n",
    "        \n",
    "        # Run Grubbs test\n",
    "        esd_ts, esd_crit_val, max_i, xbar, Sx = grubbs_test(esr)\n",
    "        \n",
    "        \n",
    "        if esd_ts > esd_crit_val:\n",
    "            \n",
    "            print(f'Outlier {count}:\\n {esd_ts} > {esd_crit_val} \\nESR: {esr[max_i]} \\nMean: {xbar}, SD: {Sx} \\n')        \n",
    "            # convert to array to make sure we work with the righ indices\n",
    "            temp_arr = data_df.values \n",
    "            oliers_arr = np.concatenate((oliers_arr, temp_arr[max_i].reshape((1,p))))\n",
    "            d = np.delete(temp_arr, max_i, axis=0) \n",
    "            data_df = pd.DataFrame(d, columns=list(data['feature_names'])+['y'])\n",
    "            count += 1\n",
    "        else: \n",
    "            print(f'Outlier {count}:\\n {esd_ts} < {esd_crit_val} \\nESR: {esr[max_i]} \\nMean: {xbar}, SD: {Sx} \\n')\n",
    "    \n",
    "    oliers_df = pd.DataFrame(np.delete(oliers_arr, 0, axis=0), columns=list(data['feature_names'])+['y'])\n",
    "    return data_df, oliers_df     "
   ]
  },
  {
   "cell_type": "code",
   "execution_count": 21,
   "metadata": {
    "scrolled": false
   },
   "outputs": [
    {
     "name": "stdout",
     "output_type": "stream",
     "text": [
      "Outlier 1:\n",
      " 4.558151372136522 > 3.69840981204702 \n",
      "ESR: 4.588873263576777 \n",
      "Mean: 0.0024220703178590686, SD: 1.0062086181023713 \n",
      "\n",
      "Outlier 2:\n",
      " 4.5584064557909825 > 3.6978736449246403 \n",
      "ESR: 4.591967865628939 \n",
      "Mean: 0.0025004536711477603, SD: 1.0068139944228423 \n",
      "\n",
      "Outlier 3:\n",
      " 4.622809785011017 > 3.6973363004352304 \n",
      "ESR: 4.656643704178242 \n",
      "Mean: 0.0025218633984844664, SD: 1.006773381822948 \n",
      "\n",
      "Outlier 4:\n",
      " 4.828572323794591 > 3.696797773577308 \n",
      "ESR: 4.863094474970609 \n",
      "Mean: 0.0023620380687465825, SD: 1.0066603772193263 \n",
      "\n",
      "Outlier 5:\n",
      " 3.8564085438899802 > 3.696258059317204 \n",
      "ESR: 3.8846008403963954 \n",
      "Mean: 0.0024329809799286807, SD: 1.006679612710458 \n",
      "\n",
      "Outlier 6:\n",
      " 3.991533784734944 > 3.69571715259083 \n",
      "ESR: 4.019929086488091 \n",
      "Mean: 0.0023039049873850048, SD: 1.0065366844358288 \n",
      "\n",
      "Outlier 7:\n",
      " 3.953657502401416 > 3.695175048300467 \n",
      "ESR: 3.977353827972136 \n",
      "Mean: 0.0018780329274843694, SD: 1.005518508527859 \n",
      "\n",
      "Outlier 8:\n",
      " 3.955267404683338 > 3.6946317413173757 \n",
      "ESR: 3.978849387133868 \n",
      "Mean: 0.0018512225081406878, SD: 1.0054941316778376 \n",
      "\n",
      "Outlier 9:\n",
      " 3.985221912690844 > 3.6940872264799802 \n",
      "ESR: -4.00414107696621 \n",
      "Mean: 0.0018121226107565755, SD: 1.0052020407747193 \n",
      "\n",
      "Outlier 10:\n",
      " 3.7762463236206547 > 3.693541498593466 \n",
      "ESR: 3.7990282084541454 \n",
      "Mean: 0.0017530891420311345, SD: 1.0055687033867264 \n",
      "\n",
      "Outlier 11:\n",
      " 3.6033627833291955 < 3.692994552430467 \n",
      "ESR: -3.6203716528034953 \n",
      "Mean: 0.0017037377009946162, SD: 1.005193095533391 \n",
      "\n"
     ]
    }
   ],
   "source": [
    "new_df, oliers = ESD_generalized(df, 'y')"
   ]
  },
  {
   "cell_type": "markdown",
   "metadata": {},
   "source": [
    "### Identified Outliers Data Frame"
   ]
  },
  {
   "cell_type": "code",
   "execution_count": 22,
   "metadata": {},
   "outputs": [
    {
     "data": {
      "text/html": [
       "<div>\n",
       "<style scoped>\n",
       "    .dataframe tbody tr th:only-of-type {\n",
       "        vertical-align: middle;\n",
       "    }\n",
       "\n",
       "    .dataframe tbody tr th {\n",
       "        vertical-align: top;\n",
       "    }\n",
       "\n",
       "    .dataframe thead th {\n",
       "        text-align: right;\n",
       "    }\n",
       "</style>\n",
       "<table border=\"1\" class=\"dataframe\">\n",
       "  <thead>\n",
       "    <tr style=\"text-align: right;\">\n",
       "      <th></th>\n",
       "      <th>CRIM</th>\n",
       "      <th>ZN</th>\n",
       "      <th>INDUS</th>\n",
       "      <th>CHAS</th>\n",
       "      <th>NOX</th>\n",
       "      <th>RM</th>\n",
       "      <th>AGE</th>\n",
       "      <th>DIS</th>\n",
       "      <th>RAD</th>\n",
       "      <th>TAX</th>\n",
       "      <th>PTRATIO</th>\n",
       "      <th>B</th>\n",
       "      <th>LSTAT</th>\n",
       "      <th>y</th>\n",
       "    </tr>\n",
       "  </thead>\n",
       "  <tbody>\n",
       "    <tr>\n",
       "      <th>0</th>\n",
       "      <td>9.23230</td>\n",
       "      <td>0.0</td>\n",
       "      <td>18.1</td>\n",
       "      <td>0.0</td>\n",
       "      <td>0.631</td>\n",
       "      <td>6.216</td>\n",
       "      <td>100.0</td>\n",
       "      <td>1.1691</td>\n",
       "      <td>24.0</td>\n",
       "      <td>666.0</td>\n",
       "      <td>20.2</td>\n",
       "      <td>366.15</td>\n",
       "      <td>9.53</td>\n",
       "      <td>6.156526</td>\n",
       "    </tr>\n",
       "    <tr>\n",
       "      <th>1</th>\n",
       "      <td>18.81100</td>\n",
       "      <td>0.0</td>\n",
       "      <td>18.1</td>\n",
       "      <td>0.0</td>\n",
       "      <td>0.597</td>\n",
       "      <td>4.628</td>\n",
       "      <td>100.0</td>\n",
       "      <td>1.5539</td>\n",
       "      <td>24.0</td>\n",
       "      <td>666.0</td>\n",
       "      <td>20.2</td>\n",
       "      <td>28.79</td>\n",
       "      <td>34.37</td>\n",
       "      <td>4.007343</td>\n",
       "    </tr>\n",
       "    <tr>\n",
       "      <th>2</th>\n",
       "      <td>4.89822</td>\n",
       "      <td>0.0</td>\n",
       "      <td>18.1</td>\n",
       "      <td>0.0</td>\n",
       "      <td>0.631</td>\n",
       "      <td>4.970</td>\n",
       "      <td>100.0</td>\n",
       "      <td>1.3325</td>\n",
       "      <td>24.0</td>\n",
       "      <td>666.0</td>\n",
       "      <td>20.2</td>\n",
       "      <td>375.52</td>\n",
       "      <td>3.26</td>\n",
       "      <td>6.156526</td>\n",
       "    </tr>\n",
       "    <tr>\n",
       "      <th>3</th>\n",
       "      <td>8.26725</td>\n",
       "      <td>0.0</td>\n",
       "      <td>18.1</td>\n",
       "      <td>1.0</td>\n",
       "      <td>0.668</td>\n",
       "      <td>5.875</td>\n",
       "      <td>89.6</td>\n",
       "      <td>1.1296</td>\n",
       "      <td>24.0</td>\n",
       "      <td>666.0</td>\n",
       "      <td>20.2</td>\n",
       "      <td>347.88</td>\n",
       "      <td>8.88</td>\n",
       "      <td>6.156526</td>\n",
       "    </tr>\n",
       "    <tr>\n",
       "      <th>4</th>\n",
       "      <td>13.52220</td>\n",
       "      <td>0.0</td>\n",
       "      <td>18.1</td>\n",
       "      <td>0.0</td>\n",
       "      <td>0.631</td>\n",
       "      <td>3.863</td>\n",
       "      <td>100.0</td>\n",
       "      <td>1.5106</td>\n",
       "      <td>24.0</td>\n",
       "      <td>666.0</td>\n",
       "      <td>20.2</td>\n",
       "      <td>131.42</td>\n",
       "      <td>13.33</td>\n",
       "      <td>4.497168</td>\n",
       "    </tr>\n",
       "    <tr>\n",
       "      <th>5</th>\n",
       "      <td>4.55587</td>\n",
       "      <td>0.0</td>\n",
       "      <td>18.1</td>\n",
       "      <td>0.0</td>\n",
       "      <td>0.718</td>\n",
       "      <td>3.561</td>\n",
       "      <td>87.9</td>\n",
       "      <td>1.6132</td>\n",
       "      <td>24.0</td>\n",
       "      <td>666.0</td>\n",
       "      <td>20.2</td>\n",
       "      <td>354.70</td>\n",
       "      <td>7.12</td>\n",
       "      <td>4.847955</td>\n",
       "    </tr>\n",
       "    <tr>\n",
       "      <th>6</th>\n",
       "      <td>18.49820</td>\n",
       "      <td>0.0</td>\n",
       "      <td>18.1</td>\n",
       "      <td>0.0</td>\n",
       "      <td>0.668</td>\n",
       "      <td>4.138</td>\n",
       "      <td>100.0</td>\n",
       "      <td>1.1370</td>\n",
       "      <td>24.0</td>\n",
       "      <td>666.0</td>\n",
       "      <td>20.2</td>\n",
       "      <td>396.90</td>\n",
       "      <td>37.97</td>\n",
       "      <td>3.534835</td>\n",
       "    </tr>\n",
       "    <tr>\n",
       "      <th>7</th>\n",
       "      <td>5.66998</td>\n",
       "      <td>0.0</td>\n",
       "      <td>18.1</td>\n",
       "      <td>1.0</td>\n",
       "      <td>0.631</td>\n",
       "      <td>6.683</td>\n",
       "      <td>96.8</td>\n",
       "      <td>1.3567</td>\n",
       "      <td>24.0</td>\n",
       "      <td>666.0</td>\n",
       "      <td>20.2</td>\n",
       "      <td>375.33</td>\n",
       "      <td>3.73</td>\n",
       "      <td>6.156526</td>\n",
       "    </tr>\n",
       "    <tr>\n",
       "      <th>8</th>\n",
       "      <td>14.23620</td>\n",
       "      <td>0.0</td>\n",
       "      <td>18.1</td>\n",
       "      <td>0.0</td>\n",
       "      <td>0.693</td>\n",
       "      <td>6.343</td>\n",
       "      <td>100.0</td>\n",
       "      <td>1.5741</td>\n",
       "      <td>24.0</td>\n",
       "      <td>666.0</td>\n",
       "      <td>20.2</td>\n",
       "      <td>396.90</td>\n",
       "      <td>20.32</td>\n",
       "      <td>2.463355</td>\n",
       "    </tr>\n",
       "    <tr>\n",
       "      <th>9</th>\n",
       "      <td>6.53876</td>\n",
       "      <td>0.0</td>\n",
       "      <td>18.1</td>\n",
       "      <td>1.0</td>\n",
       "      <td>0.631</td>\n",
       "      <td>7.016</td>\n",
       "      <td>97.5</td>\n",
       "      <td>1.2024</td>\n",
       "      <td>24.0</td>\n",
       "      <td>666.0</td>\n",
       "      <td>20.2</td>\n",
       "      <td>392.05</td>\n",
       "      <td>2.96</td>\n",
       "      <td>6.156526</td>\n",
       "    </tr>\n",
       "  </tbody>\n",
       "</table>\n",
       "</div>"
      ],
      "text/plain": [
       "       CRIM   ZN  INDUS  CHAS    NOX     RM    AGE     DIS   RAD    TAX  \\\n",
       "0   9.23230  0.0   18.1   0.0  0.631  6.216  100.0  1.1691  24.0  666.0   \n",
       "1  18.81100  0.0   18.1   0.0  0.597  4.628  100.0  1.5539  24.0  666.0   \n",
       "2   4.89822  0.0   18.1   0.0  0.631  4.970  100.0  1.3325  24.0  666.0   \n",
       "3   8.26725  0.0   18.1   1.0  0.668  5.875   89.6  1.1296  24.0  666.0   \n",
       "4  13.52220  0.0   18.1   0.0  0.631  3.863  100.0  1.5106  24.0  666.0   \n",
       "5   4.55587  0.0   18.1   0.0  0.718  3.561   87.9  1.6132  24.0  666.0   \n",
       "6  18.49820  0.0   18.1   0.0  0.668  4.138  100.0  1.1370  24.0  666.0   \n",
       "7   5.66998  0.0   18.1   1.0  0.631  6.683   96.8  1.3567  24.0  666.0   \n",
       "8  14.23620  0.0   18.1   0.0  0.693  6.343  100.0  1.5741  24.0  666.0   \n",
       "9   6.53876  0.0   18.1   1.0  0.631  7.016   97.5  1.2024  24.0  666.0   \n",
       "\n",
       "   PTRATIO       B  LSTAT         y  \n",
       "0     20.2  366.15   9.53  6.156526  \n",
       "1     20.2   28.79  34.37  4.007343  \n",
       "2     20.2  375.52   3.26  6.156526  \n",
       "3     20.2  347.88   8.88  6.156526  \n",
       "4     20.2  131.42  13.33  4.497168  \n",
       "5     20.2  354.70   7.12  4.847955  \n",
       "6     20.2  396.90  37.97  3.534835  \n",
       "7     20.2  375.33   3.73  6.156526  \n",
       "8     20.2  396.90  20.32  2.463355  \n",
       "9     20.2  392.05   2.96  6.156526  "
      ]
     },
     "execution_count": 22,
     "metadata": {},
     "output_type": "execute_result"
    }
   ],
   "source": [
    "oliers"
   ]
  },
  {
   "cell_type": "markdown",
   "metadata": {},
   "source": [
    "### Data Frame Outliers Removed."
   ]
  },
  {
   "cell_type": "code",
   "execution_count": 23,
   "metadata": {
    "scrolled": true
   },
   "outputs": [
    {
     "data": {
      "text/html": [
       "<div>\n",
       "<style scoped>\n",
       "    .dataframe tbody tr th:only-of-type {\n",
       "        vertical-align: middle;\n",
       "    }\n",
       "\n",
       "    .dataframe tbody tr th {\n",
       "        vertical-align: top;\n",
       "    }\n",
       "\n",
       "    .dataframe thead th {\n",
       "        text-align: right;\n",
       "    }\n",
       "</style>\n",
       "<table border=\"1\" class=\"dataframe\">\n",
       "  <thead>\n",
       "    <tr style=\"text-align: right;\">\n",
       "      <th></th>\n",
       "      <th>CRIM</th>\n",
       "      <th>ZN</th>\n",
       "      <th>INDUS</th>\n",
       "      <th>CHAS</th>\n",
       "      <th>NOX</th>\n",
       "      <th>RM</th>\n",
       "      <th>AGE</th>\n",
       "      <th>DIS</th>\n",
       "      <th>RAD</th>\n",
       "      <th>TAX</th>\n",
       "      <th>PTRATIO</th>\n",
       "      <th>B</th>\n",
       "      <th>LSTAT</th>\n",
       "      <th>y</th>\n",
       "    </tr>\n",
       "  </thead>\n",
       "  <tbody>\n",
       "    <tr>\n",
       "      <th>0</th>\n",
       "      <td>0.00632</td>\n",
       "      <td>18.0</td>\n",
       "      <td>2.31</td>\n",
       "      <td>0.0</td>\n",
       "      <td>0.538</td>\n",
       "      <td>6.575</td>\n",
       "      <td>65.2</td>\n",
       "      <td>4.0900</td>\n",
       "      <td>1.0</td>\n",
       "      <td>296.0</td>\n",
       "      <td>15.3</td>\n",
       "      <td>396.90</td>\n",
       "      <td>4.98</td>\n",
       "      <td>4.572936</td>\n",
       "    </tr>\n",
       "    <tr>\n",
       "      <th>1</th>\n",
       "      <td>0.02731</td>\n",
       "      <td>0.0</td>\n",
       "      <td>7.07</td>\n",
       "      <td>0.0</td>\n",
       "      <td>0.469</td>\n",
       "      <td>6.421</td>\n",
       "      <td>78.9</td>\n",
       "      <td>4.9671</td>\n",
       "      <td>2.0</td>\n",
       "      <td>242.0</td>\n",
       "      <td>17.8</td>\n",
       "      <td>396.90</td>\n",
       "      <td>9.14</td>\n",
       "      <td>4.365582</td>\n",
       "    </tr>\n",
       "    <tr>\n",
       "      <th>2</th>\n",
       "      <td>0.02729</td>\n",
       "      <td>0.0</td>\n",
       "      <td>7.07</td>\n",
       "      <td>0.0</td>\n",
       "      <td>0.469</td>\n",
       "      <td>7.185</td>\n",
       "      <td>61.1</td>\n",
       "      <td>4.9671</td>\n",
       "      <td>2.0</td>\n",
       "      <td>242.0</td>\n",
       "      <td>17.8</td>\n",
       "      <td>392.83</td>\n",
       "      <td>4.03</td>\n",
       "      <td>5.336943</td>\n",
       "    </tr>\n",
       "    <tr>\n",
       "      <th>3</th>\n",
       "      <td>0.03237</td>\n",
       "      <td>0.0</td>\n",
       "      <td>2.18</td>\n",
       "      <td>0.0</td>\n",
       "      <td>0.458</td>\n",
       "      <td>6.998</td>\n",
       "      <td>45.8</td>\n",
       "      <td>6.0622</td>\n",
       "      <td>3.0</td>\n",
       "      <td>222.0</td>\n",
       "      <td>18.7</td>\n",
       "      <td>394.63</td>\n",
       "      <td>2.94</td>\n",
       "      <td>5.254954</td>\n",
       "    </tr>\n",
       "    <tr>\n",
       "      <th>4</th>\n",
       "      <td>0.06905</td>\n",
       "      <td>0.0</td>\n",
       "      <td>2.18</td>\n",
       "      <td>0.0</td>\n",
       "      <td>0.458</td>\n",
       "      <td>7.147</td>\n",
       "      <td>54.2</td>\n",
       "      <td>6.0622</td>\n",
       "      <td>3.0</td>\n",
       "      <td>222.0</td>\n",
       "      <td>18.7</td>\n",
       "      <td>396.90</td>\n",
       "      <td>5.33</td>\n",
       "      <td>5.428607</td>\n",
       "    </tr>\n",
       "  </tbody>\n",
       "</table>\n",
       "</div>"
      ],
      "text/plain": [
       "      CRIM    ZN  INDUS  CHAS    NOX     RM   AGE     DIS  RAD    TAX  \\\n",
       "0  0.00632  18.0   2.31   0.0  0.538  6.575  65.2  4.0900  1.0  296.0   \n",
       "1  0.02731   0.0   7.07   0.0  0.469  6.421  78.9  4.9671  2.0  242.0   \n",
       "2  0.02729   0.0   7.07   0.0  0.469  7.185  61.1  4.9671  2.0  242.0   \n",
       "3  0.03237   0.0   2.18   0.0  0.458  6.998  45.8  6.0622  3.0  222.0   \n",
       "4  0.06905   0.0   2.18   0.0  0.458  7.147  54.2  6.0622  3.0  222.0   \n",
       "\n",
       "   PTRATIO       B  LSTAT         y  \n",
       "0     15.3  396.90   4.98  4.572936  \n",
       "1     17.8  396.90   9.14  4.365582  \n",
       "2     17.8  392.83   4.03  5.336943  \n",
       "3     18.7  394.63   2.94  5.254954  \n",
       "4     18.7  396.90   5.33  5.428607  "
      ]
     },
     "execution_count": 23,
     "metadata": {},
     "output_type": "execute_result"
    }
   ],
   "source": [
    "new_df.head()"
   ]
  },
  {
   "cell_type": "markdown",
   "metadata": {},
   "source": [
    "Our function identified 10 outliers. Now let's fit again our full model without the outliers. "
   ]
  },
  {
   "cell_type": "markdown",
   "metadata": {},
   "source": [
    "### Fit Full Model Model Outliers Removed"
   ]
  },
  {
   "cell_type": "code",
   "execution_count": 24,
   "metadata": {},
   "outputs": [
    {
     "name": "stdout",
     "output_type": "stream",
     "text": [
      "Regression Results: \n",
      "AIC: 247.8073871996628 \n",
      "BIC: 306.6994501738118 \n",
      "Adj. R_sq: 0.8388832872714947\n"
     ]
    }
   ],
   "source": [
    "ols = smf.ols(formula, data=new_df)\n",
    "model = ols.fit()\n",
    "aic = model.aic\n",
    "bic = model.bic\n",
    "adj_r = model.rsquared_adj\n",
    "\n",
    "print('Regression Results: '\n",
    "      '\\nAIC:', aic, '\\nBIC:', bic, '\\nAdj. R_sq:', adj_r)"
   ]
  },
  {
   "cell_type": "code",
   "execution_count": 25,
   "metadata": {},
   "outputs": [
    {
     "name": "stdout",
     "output_type": "stream",
     "text": [
      "Skewness: 0.12340082224854125 \n",
      "Skewness Test: Statistic = 1.1342519540440457 , p-value = 0.2566888765855292 \n",
      "Excess Kurtosis: 1.4994254119244923 \n",
      "Kurtosis Test: Statistic = 4.352404096496561 , p-value = 1.346527798285125e-05 \n",
      "Shapiro-Wilk Test: Statistic = 0.9750246405601501 , p-value = 1.72421792399291e-07\n"
     ]
    },
    {
     "data": {
      "image/png": "[encoded data removed]",
      "text/plain": [
       "<Figure size 1008x360 with 2 Axes>"
      ]
     },
     "metadata": {},
     "output_type": "display_data"
    }
   ],
   "source": [
    "infl = model.get_influence()\n",
    "esr = infl.get_resid_studentized_external()\n",
    "normal_test_plots(esr, 'ESR')"
   ]
  },
  {
   "cell_type": "markdown",
   "metadata": {},
   "source": [
    "Our AIC, BIC and Adj. R-squared all improved. We failed to reject the null hypothesis for our skewness test, and we rejected our null hypothesis for skewness, but we improved with an excess kurtosis of about 1.5. We can see from our qq-plot that we have heavy tails. \n",
    "\n",
    "We'll use this new data frame and proceed to train our model using a subset model."
   ]
  },
  {
   "cell_type": "markdown",
   "metadata": {},
   "source": [
    "# Model Training and Validation"
   ]
  },
  {
   "cell_type": "code",
   "execution_count": 26,
   "metadata": {},
   "outputs": [],
   "source": [
    "from sklearn.linear_model import LinearRegression\n",
    "from sklearn.metrics import mean_squared_error\n",
    "from sklearn.model_selection import train_test_split"
   ]
  },
  {
   "cell_type": "markdown",
   "metadata": {},
   "source": [
    "## Subset Model\n",
    "\n",
    "We'll continue or analysis using a subset model containing the following features: **CRIM, NOX, RM, AGE, DIS, RAD, TAX, PTRATIO, LSTAT**"
   ]
  },
  {
   "cell_type": "code",
   "execution_count": 27,
   "metadata": {},
   "outputs": [],
   "source": [
    "sub_selection = ['CRIM', 'NOX', 'RM', 'AGE', 'DIS', 'RAD', 'TAX', 'PTRATIO', 'LSTAT','y']\n",
    "df_sub = new_df[sub_selection]"
   ]
  },
  {
   "cell_type": "markdown",
   "metadata": {},
   "source": [
    "### Split Data"
   ]
  },
  {
   "cell_type": "code",
   "execution_count": 28,
   "metadata": {},
   "outputs": [],
   "source": [
    "X_train, X_test, y_train, y_test = train_test_split(df_sub.drop('y', axis=1), df_sub['y'], test_size=.3, random_state=279) "
   ]
  },
  {
   "cell_type": "markdown",
   "metadata": {},
   "source": [
    "### Fit Model"
   ]
  },
  {
   "cell_type": "code",
   "execution_count": 29,
   "metadata": {},
   "outputs": [
    {
     "name": "stdout",
     "output_type": "stream",
     "text": [
      "MSE: 0.06814569731870954 \n",
      "R-square: 0.8684997661194775\n"
     ]
    }
   ],
   "source": [
    "lm = LinearRegression()\n",
    "lm.fit(X_train, y_train)\n",
    "y_pred = lm.predict(X_test)\n",
    "resid = y_pred - y_test\n",
    "MSE = mean_squared_error(y_test, y_pred)\n",
    "R_sq = lm.score(X_test, y_test)\n",
    "\n",
    "print('MSE:', MSE,\n",
    "      '\\nR-square:', R_sq)"
   ]
  },
  {
   "cell_type": "markdown",
   "metadata": {},
   "source": [
    "Now let's check our model assumptions."
   ]
  },
  {
   "cell_type": "markdown",
   "metadata": {},
   "source": [
    "## Linearity"
   ]
  },
  {
   "cell_type": "code",
   "execution_count": 30,
   "metadata": {},
   "outputs": [
    {
     "data": {
      "image/png": "[encoded data removed]",
      "text/plain": [
       "<Figure size 432x288 with 1 Axes>"
      ]
     },
     "metadata": {},
     "output_type": "display_data"
    }
   ],
   "source": [
    "plt.scatter(y_test, y_pred)\n",
    "plt.plot(y_test, y_test, color='orange', lw=.8);"
   ]
  },
  {
   "cell_type": "markdown",
   "metadata": {},
   "source": [
    "We have no indication of non-linearity in our model"
   ]
  },
  {
   "cell_type": "markdown",
   "metadata": {},
   "source": [
    "## Normally Distributed Residuals"
   ]
  },
  {
   "cell_type": "code",
   "execution_count": 31,
   "metadata": {
    "scrolled": false
   },
   "outputs": [
    {
     "name": "stdout",
     "output_type": "stream",
     "text": [
      "Skewness: -0.4897729392998745 \n",
      "Skewness Test: Statistic = -2.4342275337133303 , p-value = 0.0149236106563094 \n",
      "Excess Kurtosis: 0.9591336277787188 \n",
      "Kurtosis Test: Statistic = 2.085317965792438 , p-value = 0.03704044769202376 \n",
      "Shapiro-Wilk Test: Statistic = 0.9652630090713501 , p-value = 0.0008099583210423589\n"
     ]
    },
    {
     "data": {
      "image/png": "[encoded data removed]",
      "text/plain": [
       "<Figure size 1008x360 with 2 Axes>"
      ]
     },
     "metadata": {},
     "output_type": "display_data"
    }
   ],
   "source": [
    "normal_test_plots(resid, 'Residuals')"
   ]
  },
  {
   "cell_type": "markdown",
   "metadata": {},
   "source": [
    "We rejected our null hypothesis in all of our tests, but our Skewness and Kurtosis values, although in the borderline, are not too high."
   ]
  },
  {
   "cell_type": "markdown",
   "metadata": {},
   "source": [
    "## Homoscedasticity\n",
    "We'll split our residuals in two and perform a Levine Test for equal variance."
   ]
  },
  {
   "cell_type": "code",
   "execution_count": 32,
   "metadata": {
    "scrolled": true
   },
   "outputs": [
    {
     "name": "stdout",
     "output_type": "stream",
     "text": [
      "Levine Test Results: \n",
      "Statistic = 0.26398798009985985 p-value = 0.6081649519470014\n"
     ]
    },
    {
     "data": {
      "image/png": "[encoded data removed]",
      "text/plain": [
       "<Figure size 432x288 with 1 Axes>"
      ]
     },
     "metadata": {},
     "output_type": "display_data"
    }
   ],
   "source": [
    "plt.scatter(y_pred, resid)\n",
    "plt.title('Residuals vs Fitted', size=14)\n",
    "plt.xlabel('Fitted', size=12)\n",
    "plt.ylabel('Residuals', size=12)\n",
    "\n",
    "# Separate residuals in two and perform test.\n",
    "lev = stats.levene(resid[0:75], resid[75:])\n",
    "print('Levine Test Results:',\n",
    "      '\\nStatistic =', lev[0], 'p-value =', lev[1])"
   ]
  },
  {
   "cell_type": "markdown",
   "metadata": {},
   "source": [
    "With a p-value of 0.60 we failed to reject our null hypothesis that all input samples\n",
    "are from populations with equal variances. We can see that the majority of our data oscillates around $\\pm$0.50 with a few deviations around $\\pm$0.75"
   ]
  },
  {
   "cell_type": "markdown",
   "metadata": {},
   "source": [
    "## Multicollinearity"
   ]
  },
  {
   "cell_type": "code",
   "execution_count": 33,
   "metadata": {},
   "outputs": [],
   "source": [
    "from statsmodels.stats.outliers_influence import variance_inflation_factor"
   ]
  },
  {
   "cell_type": "code",
   "execution_count": 34,
   "metadata": {
    "scrolled": true
   },
   "outputs": [
    {
     "data": {
      "text/html": [
       "<div>\n",
       "<style scoped>\n",
       "    .dataframe tbody tr th:only-of-type {\n",
       "        vertical-align: middle;\n",
       "    }\n",
       "\n",
       "    .dataframe tbody tr th {\n",
       "        vertical-align: top;\n",
       "    }\n",
       "\n",
       "    .dataframe thead th {\n",
       "        text-align: right;\n",
       "    }\n",
       "</style>\n",
       "<table border=\"1\" class=\"dataframe\">\n",
       "  <thead>\n",
       "    <tr style=\"text-align: right;\">\n",
       "      <th></th>\n",
       "      <th>VIF</th>\n",
       "    </tr>\n",
       "  </thead>\n",
       "  <tbody>\n",
       "    <tr>\n",
       "      <th>CRIM</th>\n",
       "      <td>1.993343</td>\n",
       "    </tr>\n",
       "    <tr>\n",
       "      <th>DIS</th>\n",
       "      <td>10.465549</td>\n",
       "    </tr>\n",
       "    <tr>\n",
       "      <th>LSTAT</th>\n",
       "      <td>12.495304</td>\n",
       "    </tr>\n",
       "    <tr>\n",
       "      <th>RAD</th>\n",
       "      <td>12.625569</td>\n",
       "    </tr>\n",
       "    <tr>\n",
       "      <th>AGE</th>\n",
       "      <td>20.828640</td>\n",
       "    </tr>\n",
       "    <tr>\n",
       "      <th>TAX</th>\n",
       "      <td>45.263323</td>\n",
       "    </tr>\n",
       "    <tr>\n",
       "      <th>PTRATIO</th>\n",
       "      <td>65.673329</td>\n",
       "    </tr>\n",
       "    <tr>\n",
       "      <th>NOX</th>\n",
       "      <td>66.873401</td>\n",
       "    </tr>\n",
       "    <tr>\n",
       "      <th>RM</th>\n",
       "      <td>72.696063</td>\n",
       "    </tr>\n",
       "  </tbody>\n",
       "</table>\n",
       "</div>"
      ],
      "text/plain": [
       "               VIF\n",
       "CRIM      1.993343\n",
       "DIS      10.465549\n",
       "LSTAT    12.495304\n",
       "RAD      12.625569\n",
       "AGE      20.828640\n",
       "TAX      45.263323\n",
       "PTRATIO  65.673329\n",
       "NOX      66.873401\n",
       "RM       72.696063"
      ]
     },
     "execution_count": 34,
     "metadata": {},
     "output_type": "execute_result"
    }
   ],
   "source": [
    "v = [variance_inflation_factor(df_sub.drop('y', axis=1).values,i) for i in range(df_sub.shape[1]-1)]\n",
    "vif = pd.DataFrame(v, columns=['VIF'], index = df_sub.drop('y', axis=1).columns.values)\n",
    "vif.sort_values('VIF')"
   ]
  },
  {
   "cell_type": "markdown",
   "metadata": {},
   "source": [
    "We have severe multicollinearity issues; however, since we limited the scope of our model to prediction only, we will not address it in this notebook.\n",
    "\n",
    "We'll proceed to calculationg the prediction intervals"
   ]
  },
  {
   "cell_type": "markdown",
   "metadata": {},
   "source": [
    "# Prediction Interval"
   ]
  },
  {
   "cell_type": "markdown",
   "metadata": {},
   "source": [
    "Our function will compute the prediction interval for $n$ observations and return a data frame. We'll input the entire test data."
   ]
  },
  {
   "cell_type": "code",
   "execution_count": 35,
   "metadata": {},
   "outputs": [],
   "source": [
    "bhat = np.array([lm.intercept_]+list(lm.coef_))\n",
    "var_resid = np.var(resid, ddof=1)"
   ]
  },
  {
   "cell_type": "code",
   "execution_count": 36,
   "metadata": {},
   "outputs": [],
   "source": [
    "def get_pred_int(Xtrain, x, var_e, bhat):\n",
    "    x = sm.add_constant(x)\n",
    "    Xtrain = sm.add_constant(Xtrain)\n",
    "    p = Xtrain.shape[1]\n",
    "    # Checking x dimension\n",
    "    if np.ndim(x) == 1:\n",
    "        x = x.reshape((1, x.shape[0]))\n",
    "    n = x.shape[0]\n",
    "    \n",
    "    # Get variance for n observations\n",
    "    var_yhat = []\n",
    "    inv = np.linalg.inv(Xtrain.T @ Xtrain)   \n",
    "    for i in range(n):\n",
    "        prod = x[i,:] @ inv @ x[i,:].T\n",
    "        s = var_e * (1+prod)\n",
    "        var_yhat.append(float(s))\n",
    "    var_yhat = np.array(var_yhat)\n",
    "    \n",
    "    # Compute n confidence intervals\n",
    "    df_pred_int = np.empty((1,3))\n",
    "    qt = stats.t.ppf(.975, df=n-p)\n",
    "    for j in range(n):\n",
    "        yhat = x[j,:] @ bhat.reshape((p,1))\n",
    "        lower = yhat - qt * np.sqrt(var_yhat[j])\n",
    "        upper = yhat + qt * np.sqrt(var_yhat[j])\n",
    "        vals = np.array((lower, yhat, upper)).reshape((1,3))\n",
    "        df_pred_int = np.concatenate((df_pred_int, vals))\n",
    "\n",
    "    # Make data frame\n",
    "    df_pred_int = np.delete(df_pred_int,0,0)\n",
    "    df_pred_int = pd.DataFrame(df_pred_int, columns=['lower bound', 'y_pred', 'upper bound'])\n",
    "    \n",
    "    \n",
    "    return df_pred_int"
   ]
  },
  {
   "cell_type": "code",
   "execution_count": 37,
   "metadata": {},
   "outputs": [
    {
     "data": {
      "text/html": [
       "<div>\n",
       "<style scoped>\n",
       "    .dataframe tbody tr th:only-of-type {\n",
       "        vertical-align: middle;\n",
       "    }\n",
       "\n",
       "    .dataframe tbody tr th {\n",
       "        vertical-align: top;\n",
       "    }\n",
       "\n",
       "    .dataframe thead th {\n",
       "        text-align: right;\n",
       "    }\n",
       "</style>\n",
       "<table border=\"1\" class=\"dataframe\">\n",
       "  <thead>\n",
       "    <tr style=\"text-align: right;\">\n",
       "      <th></th>\n",
       "      <th>lower bound</th>\n",
       "      <th>y_pred</th>\n",
       "      <th>upper bound</th>\n",
       "    </tr>\n",
       "  </thead>\n",
       "  <tbody>\n",
       "    <tr>\n",
       "      <th>0</th>\n",
       "      <td>4.380322</td>\n",
       "      <td>4.900105</td>\n",
       "      <td>5.419888</td>\n",
       "    </tr>\n",
       "    <tr>\n",
       "      <th>1</th>\n",
       "      <td>4.522525</td>\n",
       "      <td>5.047577</td>\n",
       "      <td>5.572630</td>\n",
       "    </tr>\n",
       "    <tr>\n",
       "      <th>2</th>\n",
       "      <td>4.252084</td>\n",
       "      <td>4.775964</td>\n",
       "      <td>5.299845</td>\n",
       "    </tr>\n",
       "    <tr>\n",
       "      <th>3</th>\n",
       "      <td>4.912761</td>\n",
       "      <td>5.439581</td>\n",
       "      <td>5.966401</td>\n",
       "    </tr>\n",
       "    <tr>\n",
       "      <th>4</th>\n",
       "      <td>3.251710</td>\n",
       "      <td>3.782136</td>\n",
       "      <td>4.312563</td>\n",
       "    </tr>\n",
       "    <tr>\n",
       "      <th>...</th>\n",
       "      <td>...</td>\n",
       "      <td>...</td>\n",
       "      <td>...</td>\n",
       "    </tr>\n",
       "    <tr>\n",
       "      <th>144</th>\n",
       "      <td>4.620535</td>\n",
       "      <td>5.141346</td>\n",
       "      <td>5.662157</td>\n",
       "    </tr>\n",
       "    <tr>\n",
       "      <th>145</th>\n",
       "      <td>3.353003</td>\n",
       "      <td>3.875331</td>\n",
       "      <td>4.397658</td>\n",
       "    </tr>\n",
       "    <tr>\n",
       "      <th>146</th>\n",
       "      <td>3.106915</td>\n",
       "      <td>3.634722</td>\n",
       "      <td>4.162528</td>\n",
       "    </tr>\n",
       "    <tr>\n",
       "      <th>147</th>\n",
       "      <td>4.984922</td>\n",
       "      <td>5.513212</td>\n",
       "      <td>6.041501</td>\n",
       "    </tr>\n",
       "    <tr>\n",
       "      <th>148</th>\n",
       "      <td>3.981768</td>\n",
       "      <td>4.505193</td>\n",
       "      <td>5.028617</td>\n",
       "    </tr>\n",
       "  </tbody>\n",
       "</table>\n",
       "<p>149 rows × 3 columns</p>\n",
       "</div>"
      ],
      "text/plain": [
       "     lower bound    y_pred  upper bound\n",
       "0       4.380322  4.900105     5.419888\n",
       "1       4.522525  5.047577     5.572630\n",
       "2       4.252084  4.775964     5.299845\n",
       "3       4.912761  5.439581     5.966401\n",
       "4       3.251710  3.782136     4.312563\n",
       "..           ...       ...          ...\n",
       "144     4.620535  5.141346     5.662157\n",
       "145     3.353003  3.875331     4.397658\n",
       "146     3.106915  3.634722     4.162528\n",
       "147     4.984922  5.513212     6.041501\n",
       "148     3.981768  4.505193     5.028617\n",
       "\n",
       "[149 rows x 3 columns]"
      ]
     },
     "execution_count": 37,
     "metadata": {},
     "output_type": "execute_result"
    }
   ],
   "source": [
    "pred_int_boxcox = get_pred_int(X_train.values, X_test.values, var_resid, bhat)\n",
    "pred_int_boxcox"
   ]
  },
  {
   "cell_type": "markdown",
   "metadata": {},
   "source": [
    "We can transform back our values using the lambda value from the BoxCox transformation."
   ]
  },
  {
   "cell_type": "code",
   "execution_count": 38,
   "metadata": {
    "scrolled": true
   },
   "outputs": [],
   "source": [
    "lambda_val = y_boxcox[1]\n",
    "pred_int = pred_int_boxcox.apply(lambda x: round((1+x*lambda_val)**(1/lambda_val),1)).sort_values('y_pred')"
   ]
  },
  {
   "cell_type": "code",
   "execution_count": 39,
   "metadata": {
    "scrolled": false
   },
   "outputs": [
    {
     "name": "stdout",
     "output_type": "stream",
     "text": [
      "     lower bound  y_pred  upper bound\n",
      "129          4.1     6.2          9.1\n",
      "124          4.2     6.5          9.5\n",
      "114          5.3     7.6         10.6\n",
      "24           7.1     9.9         13.5\n",
      "44           7.2    10.1         13.8\n",
      "29           7.7    10.6         14.4\n",
      "104          7.9    11.1         15.2\n",
      "142          7.9    11.2         15.5\n",
      "87           8.7    11.9         16.0\n",
      "15           8.8    12.0         16.1\n",
      "     lower bound  y_pred  upper bound\n",
      "21          15.0    20.0         26.1\n",
      "133         15.1    20.0         26.1\n",
      "11          15.1    20.0         26.1\n",
      "37          15.4    20.4         26.6\n",
      "12          16.1    21.3         27.7\n",
      "42          16.1    21.3         27.7\n",
      "65          16.3    21.4         27.8\n",
      "106         16.2    21.5         27.9\n",
      "110         16.3    21.5         27.9\n",
      "93          16.3    21.6         28.0\n",
      "     lower bound  y_pred  upper bound\n",
      "119         25.9    33.4         42.4\n",
      "134         26.1    33.5         42.6\n",
      "53          27.7    35.6         45.1\n",
      "116         27.9    35.8         45.3\n",
      "3           28.4    36.4         46.1\n",
      "147         29.4    37.6         47.6\n",
      "131         30.6    39.1         49.3\n",
      "69          31.3    39.9         50.2\n",
      "61          31.6    40.3         50.9\n",
      "9           34.4    43.7         54.8\n"
     ]
    }
   ],
   "source": [
    "print(pred_int.head(10))\n",
    "print(pred_int[pred_int.y_pred.between(20,25)].head(10))\n",
    "print(pred_int.tail(10))"
   ]
  },
  {
   "cell_type": "markdown",
   "metadata": {},
   "source": [
    "We can see that the higher the predicted value the wider the interval, so for the highest median values we can expect our predicted value to be in an interval of around $\\pm 8$, around $\\pm 6$ for the mid values, and around $\\pm 3$ for the low values."
   ]
  }
 ],
 "metadata": {
  "kernelspec": {
   "display_name": "Python 3",
   "language": "python",
   "name": "python3"
  },
  "language_info": {
   "codemirror_mode": {
    "name": "ipython",
    "version": 3
   },
   "file_extension": ".py",
   "mimetype": "text/x-python",
   "name": "python",
   "nbconvert_exporter": "python",
   "pygments_lexer": "ipython3",
   "version": "3.8.3"
  }
 },
 "nbformat": 4,
 "nbformat_minor": 4
}
