{
 "cells": [
  {
   "cell_type": "markdown",
   "metadata": {},
   "source": [
    "# Classification using Random Forest"
   ]
  },
  {
   "cell_type": "markdown",
   "metadata": {},
   "source": [
    "In this notebook we'll be working through a data set containing information from the US Census Bureau, and available at https://code.datasciencedojo.com/datasciencedojo/datasets/tree/master/Census%20Income. We will be building a model to predict if an individual's annual income is greater or less than $50,000.00 from 15 features provided."
   ]
  },
  {
   "cell_type": "markdown",
   "metadata": {},
   "source": [
    "Let's start with importing packages and loading the data."
   ]
  },
  {
   "cell_type": "markdown",
   "metadata": {},
   "source": [
    "## Import Packages"
   ]
  },
  {
   "cell_type": "code",
   "execution_count": 1,
   "metadata": {},
   "outputs": [],
   "source": [
    "import pandas as pd\n",
    "import numpy as np\n",
    "import matplotlib.pyplot as plt\n",
    "import seaborn as sns\n",
    "%matplotlib inline\n",
    "sns.set_style('ticks')"
   ]
  },
  {
   "cell_type": "markdown",
   "metadata": {},
   "source": [
    "## Load Data"
   ]
  },
  {
   "cell_type": "code",
   "execution_count": 2,
   "metadata": {
    "scrolled": false
   },
   "outputs": [
    {
     "data": {
      "text/html": [
       "<div>\n",
       "<style scoped>\n",
       "    .dataframe tbody tr th:only-of-type {\n",
       "        vertical-align: middle;\n",
       "    }\n",
       "\n",
       "    .dataframe tbody tr th {\n",
       "        vertical-align: top;\n",
       "    }\n",
       "\n",
       "    .dataframe thead th {\n",
       "        text-align: right;\n",
       "    }\n",
       "</style>\n",
       "<table border=\"1\" class=\"dataframe\">\n",
       "  <thead>\n",
       "    <tr style=\"text-align: right;\">\n",
       "      <th></th>\n",
       "      <th>39</th>\n",
       "      <th>State-gov</th>\n",
       "      <th>77516</th>\n",
       "      <th>Bachelors</th>\n",
       "      <th>13</th>\n",
       "      <th>Never-married</th>\n",
       "      <th>Adm-clerical</th>\n",
       "      <th>Not-in-family</th>\n",
       "      <th>White</th>\n",
       "      <th>Male</th>\n",
       "      <th>2174</th>\n",
       "      <th>0</th>\n",
       "      <th>40</th>\n",
       "      <th>United-States</th>\n",
       "      <th>&lt;=50K</th>\n",
       "    </tr>\n",
       "  </thead>\n",
       "  <tbody>\n",
       "    <tr>\n",
       "      <th>0</th>\n",
       "      <td>50</td>\n",
       "      <td>Self-emp-not-inc</td>\n",
       "      <td>83311</td>\n",
       "      <td>Bachelors</td>\n",
       "      <td>13</td>\n",
       "      <td>Married-civ-spouse</td>\n",
       "      <td>Exec-managerial</td>\n",
       "      <td>Husband</td>\n",
       "      <td>White</td>\n",
       "      <td>Male</td>\n",
       "      <td>0</td>\n",
       "      <td>0</td>\n",
       "      <td>13</td>\n",
       "      <td>United-States</td>\n",
       "      <td>&lt;=50K</td>\n",
       "    </tr>\n",
       "    <tr>\n",
       "      <th>1</th>\n",
       "      <td>38</td>\n",
       "      <td>Private</td>\n",
       "      <td>215646</td>\n",
       "      <td>HS-grad</td>\n",
       "      <td>9</td>\n",
       "      <td>Divorced</td>\n",
       "      <td>Handlers-cleaners</td>\n",
       "      <td>Not-in-family</td>\n",
       "      <td>White</td>\n",
       "      <td>Male</td>\n",
       "      <td>0</td>\n",
       "      <td>0</td>\n",
       "      <td>40</td>\n",
       "      <td>United-States</td>\n",
       "      <td>&lt;=50K</td>\n",
       "    </tr>\n",
       "    <tr>\n",
       "      <th>2</th>\n",
       "      <td>53</td>\n",
       "      <td>Private</td>\n",
       "      <td>234721</td>\n",
       "      <td>11th</td>\n",
       "      <td>7</td>\n",
       "      <td>Married-civ-spouse</td>\n",
       "      <td>Handlers-cleaners</td>\n",
       "      <td>Husband</td>\n",
       "      <td>Black</td>\n",
       "      <td>Male</td>\n",
       "      <td>0</td>\n",
       "      <td>0</td>\n",
       "      <td>40</td>\n",
       "      <td>United-States</td>\n",
       "      <td>&lt;=50K</td>\n",
       "    </tr>\n",
       "    <tr>\n",
       "      <th>3</th>\n",
       "      <td>28</td>\n",
       "      <td>Private</td>\n",
       "      <td>338409</td>\n",
       "      <td>Bachelors</td>\n",
       "      <td>13</td>\n",
       "      <td>Married-civ-spouse</td>\n",
       "      <td>Prof-specialty</td>\n",
       "      <td>Wife</td>\n",
       "      <td>Black</td>\n",
       "      <td>Female</td>\n",
       "      <td>0</td>\n",
       "      <td>0</td>\n",
       "      <td>40</td>\n",
       "      <td>Cuba</td>\n",
       "      <td>&lt;=50K</td>\n",
       "    </tr>\n",
       "    <tr>\n",
       "      <th>4</th>\n",
       "      <td>37</td>\n",
       "      <td>Private</td>\n",
       "      <td>284582</td>\n",
       "      <td>Masters</td>\n",
       "      <td>14</td>\n",
       "      <td>Married-civ-spouse</td>\n",
       "      <td>Exec-managerial</td>\n",
       "      <td>Wife</td>\n",
       "      <td>White</td>\n",
       "      <td>Female</td>\n",
       "      <td>0</td>\n",
       "      <td>0</td>\n",
       "      <td>40</td>\n",
       "      <td>United-States</td>\n",
       "      <td>&lt;=50K</td>\n",
       "    </tr>\n",
       "  </tbody>\n",
       "</table>\n",
       "</div>"
      ],
      "text/plain": [
       "   39          State-gov   77516   Bachelors   13        Never-married  \\\n",
       "0  50   Self-emp-not-inc   83311   Bachelors   13   Married-civ-spouse   \n",
       "1  38            Private  215646     HS-grad    9             Divorced   \n",
       "2  53            Private  234721        11th    7   Married-civ-spouse   \n",
       "3  28            Private  338409   Bachelors   13   Married-civ-spouse   \n",
       "4  37            Private  284582     Masters   14   Married-civ-spouse   \n",
       "\n",
       "         Adm-clerical   Not-in-family   White     Male   2174   0   40  \\\n",
       "0     Exec-managerial         Husband   White     Male      0   0   13   \n",
       "1   Handlers-cleaners   Not-in-family   White     Male      0   0   40   \n",
       "2   Handlers-cleaners         Husband   Black     Male      0   0   40   \n",
       "3      Prof-specialty            Wife   Black   Female      0   0   40   \n",
       "4     Exec-managerial            Wife   White   Female      0   0   40   \n",
       "\n",
       "    United-States   <=50K  \n",
       "0   United-States   <=50K  \n",
       "1   United-States   <=50K  \n",
       "2   United-States   <=50K  \n",
       "3            Cuba   <=50K  \n",
       "4   United-States   <=50K  "
      ]
     },
     "execution_count": 2,
     "metadata": {},
     "output_type": "execute_result"
    }
   ],
   "source": [
    "raw = pd.read_csv('adult.data.csv')\n",
    "raw.head()"
   ]
  },
  {
   "cell_type": "markdown",
   "metadata": {},
   "source": [
    "Column names are not provided. We'll have to insert them."
   ]
  },
  {
   "cell_type": "code",
   "execution_count": 3,
   "metadata": {},
   "outputs": [],
   "source": [
    "nrow = raw.columns.values"
   ]
  },
  {
   "cell_type": "code",
   "execution_count": 4,
   "metadata": {},
   "outputs": [
    {
     "data": {
      "text/html": [
       "<div>\n",
       "<style scoped>\n",
       "    .dataframe tbody tr th:only-of-type {\n",
       "        vertical-align: middle;\n",
       "    }\n",
       "\n",
       "    .dataframe tbody tr th {\n",
       "        vertical-align: top;\n",
       "    }\n",
       "\n",
       "    .dataframe thead th {\n",
       "        text-align: right;\n",
       "    }\n",
       "</style>\n",
       "<table border=\"1\" class=\"dataframe\">\n",
       "  <thead>\n",
       "    <tr style=\"text-align: right;\">\n",
       "      <th></th>\n",
       "      <th>age</th>\n",
       "      <th>workclass</th>\n",
       "      <th>final_wgt</th>\n",
       "      <th>ed</th>\n",
       "      <th>ed_years</th>\n",
       "      <th>m_status</th>\n",
       "      <th>occ</th>\n",
       "      <th>relat</th>\n",
       "      <th>race</th>\n",
       "      <th>sex</th>\n",
       "      <th>cptl_gain</th>\n",
       "      <th>cptl_loss</th>\n",
       "      <th>work_hr</th>\n",
       "      <th>native</th>\n",
       "      <th>income</th>\n",
       "    </tr>\n",
       "  </thead>\n",
       "  <tbody>\n",
       "    <tr>\n",
       "      <th>0</th>\n",
       "      <td>39</td>\n",
       "      <td>State-gov</td>\n",
       "      <td>77516</td>\n",
       "      <td>Bachelors</td>\n",
       "      <td>13</td>\n",
       "      <td>Never-married</td>\n",
       "      <td>Adm-clerical</td>\n",
       "      <td>Not-in-family</td>\n",
       "      <td>White</td>\n",
       "      <td>Male</td>\n",
       "      <td>2174</td>\n",
       "      <td>0</td>\n",
       "      <td>40</td>\n",
       "      <td>United-States</td>\n",
       "      <td>&lt;=50K</td>\n",
       "    </tr>\n",
       "    <tr>\n",
       "      <th>1</th>\n",
       "      <td>50</td>\n",
       "      <td>Self-emp-not-inc</td>\n",
       "      <td>83311</td>\n",
       "      <td>Bachelors</td>\n",
       "      <td>13</td>\n",
       "      <td>Married-civ-spouse</td>\n",
       "      <td>Exec-managerial</td>\n",
       "      <td>Husband</td>\n",
       "      <td>White</td>\n",
       "      <td>Male</td>\n",
       "      <td>0</td>\n",
       "      <td>0</td>\n",
       "      <td>13</td>\n",
       "      <td>United-States</td>\n",
       "      <td>&lt;=50K</td>\n",
       "    </tr>\n",
       "    <tr>\n",
       "      <th>2</th>\n",
       "      <td>38</td>\n",
       "      <td>Private</td>\n",
       "      <td>215646</td>\n",
       "      <td>HS-grad</td>\n",
       "      <td>9</td>\n",
       "      <td>Divorced</td>\n",
       "      <td>Handlers-cleaners</td>\n",
       "      <td>Not-in-family</td>\n",
       "      <td>White</td>\n",
       "      <td>Male</td>\n",
       "      <td>0</td>\n",
       "      <td>0</td>\n",
       "      <td>40</td>\n",
       "      <td>United-States</td>\n",
       "      <td>&lt;=50K</td>\n",
       "    </tr>\n",
       "    <tr>\n",
       "      <th>3</th>\n",
       "      <td>53</td>\n",
       "      <td>Private</td>\n",
       "      <td>234721</td>\n",
       "      <td>11th</td>\n",
       "      <td>7</td>\n",
       "      <td>Married-civ-spouse</td>\n",
       "      <td>Handlers-cleaners</td>\n",
       "      <td>Husband</td>\n",
       "      <td>Black</td>\n",
       "      <td>Male</td>\n",
       "      <td>0</td>\n",
       "      <td>0</td>\n",
       "      <td>40</td>\n",
       "      <td>United-States</td>\n",
       "      <td>&lt;=50K</td>\n",
       "    </tr>\n",
       "    <tr>\n",
       "      <th>4</th>\n",
       "      <td>28</td>\n",
       "      <td>Private</td>\n",
       "      <td>338409</td>\n",
       "      <td>Bachelors</td>\n",
       "      <td>13</td>\n",
       "      <td>Married-civ-spouse</td>\n",
       "      <td>Prof-specialty</td>\n",
       "      <td>Wife</td>\n",
       "      <td>Black</td>\n",
       "      <td>Female</td>\n",
       "      <td>0</td>\n",
       "      <td>0</td>\n",
       "      <td>40</td>\n",
       "      <td>Cuba</td>\n",
       "      <td>&lt;=50K</td>\n",
       "    </tr>\n",
       "  </tbody>\n",
       "</table>\n",
       "</div>"
      ],
      "text/plain": [
       "  age          workclass final_wgt          ed ed_years             m_status  \\\n",
       "0  39          State-gov     77516   Bachelors       13        Never-married   \n",
       "1  50   Self-emp-not-inc     83311   Bachelors       13   Married-civ-spouse   \n",
       "2  38            Private    215646     HS-grad        9             Divorced   \n",
       "3  53            Private    234721        11th        7   Married-civ-spouse   \n",
       "4  28            Private    338409   Bachelors       13   Married-civ-spouse   \n",
       "\n",
       "                  occ           relat    race      sex cptl_gain cptl_loss  \\\n",
       "0        Adm-clerical   Not-in-family   White     Male      2174         0   \n",
       "1     Exec-managerial         Husband   White     Male         0         0   \n",
       "2   Handlers-cleaners   Not-in-family   White     Male         0         0   \n",
       "3   Handlers-cleaners         Husband   Black     Male         0         0   \n",
       "4      Prof-specialty            Wife   Black   Female         0         0   \n",
       "\n",
       "  work_hr          native  income  \n",
       "0      40   United-States   <=50K  \n",
       "1      13   United-States   <=50K  \n",
       "2      40   United-States   <=50K  \n",
       "3      40   United-States   <=50K  \n",
       "4      40            Cuba   <=50K  "
      ]
     },
     "execution_count": 4,
     "metadata": {},
     "output_type": "execute_result"
    }
   ],
   "source": [
    "new_cols = ['age','workclass','final_wgt', 'ed', 'ed_years', 'm_status', 'occ', 'relat', 'race',\n",
    "           'sex', 'cptl_gain', 'cptl_loss', 'work_hr', 'native', 'income']\n",
    "\n",
    "raw = pd.DataFrame(np.concatenate((nrow.reshape(1,15), raw.values), axis=0), columns=new_cols)\n",
    "df = raw.copy()\n",
    "df.head()"
   ]
  },
  {
   "cell_type": "code",
   "execution_count": 5,
   "metadata": {
    "scrolled": false
   },
   "outputs": [
    {
     "name": "stdout",
     "output_type": "stream",
     "text": [
      "<class 'pandas.core.frame.DataFrame'>\n",
      "RangeIndex: 32561 entries, 0 to 32560\n",
      "Data columns (total 15 columns):\n",
      " #   Column     Non-Null Count  Dtype \n",
      "---  ------     --------------  ----- \n",
      " 0   age        32561 non-null  object\n",
      " 1   workclass  32561 non-null  object\n",
      " 2   final_wgt  32561 non-null  object\n",
      " 3   ed         32561 non-null  object\n",
      " 4   ed_years   32561 non-null  object\n",
      " 5   m_status   32561 non-null  object\n",
      " 6   occ        32561 non-null  object\n",
      " 7   relat      32561 non-null  object\n",
      " 8   race       32561 non-null  object\n",
      " 9   sex        32561 non-null  object\n",
      " 10  cptl_gain  32561 non-null  object\n",
      " 11  cptl_loss  32561 non-null  object\n",
      " 12  work_hr    32561 non-null  object\n",
      " 13  native     32561 non-null  object\n",
      " 14  income     32561 non-null  object\n",
      "dtypes: object(15)\n",
      "memory usage: 3.7+ MB\n"
     ]
    }
   ],
   "source": [
    "df.info()"
   ]
  },
  {
   "cell_type": "markdown",
   "metadata": {},
   "source": [
    "We'll change the type of our quantitave variables to integers. "
   ]
  },
  {
   "cell_type": "code",
   "execution_count": 6,
   "metadata": {},
   "outputs": [],
   "source": [
    "quant = ['age', 'final_wgt', 'ed_years', 'cptl_gain', 'cptl_loss', 'work_hr']\n",
    "df[quant] = df[quant].astype('int') "
   ]
  },
  {
   "cell_type": "code",
   "execution_count": 7,
   "metadata": {},
   "outputs": [],
   "source": [
    "qual = list(df.drop(quant+['income'], axis=1).columns.values)"
   ]
  },
  {
   "cell_type": "markdown",
   "metadata": {},
   "source": [
    "The values of our qualitative variables have spaces, so let's strip them."
   ]
  },
  {
   "cell_type": "code",
   "execution_count": 8,
   "metadata": {},
   "outputs": [],
   "source": [
    "df[qual] = df[qual].apply(lambda x: x.str.lstrip())"
   ]
  },
  {
   "cell_type": "code",
   "execution_count": 9,
   "metadata": {},
   "outputs": [],
   "source": [
    "from sklearn.preprocessing import LabelEncoder"
   ]
  },
  {
   "cell_type": "markdown",
   "metadata": {},
   "source": [
    "Renaming our target variable and encoding it.\n",
    "\n",
    "- Income <= 50K as 0\n",
    "- Income >= 50K as 1"
   ]
  },
  {
   "cell_type": "code",
   "execution_count": 10,
   "metadata": {
    "scrolled": false
   },
   "outputs": [
    {
     "name": "stdout",
     "output_type": "stream",
     "text": [
      "Target Distribution:\n",
      "0: 75.9%  |  1: 24.1%\n"
     ]
    }
   ],
   "source": [
    "enc = LabelEncoder()\n",
    "enc.fit(df.income)\n",
    "target = enc.transform(df.income)\n",
    "df['income'] = target\n",
    "df.rename(columns={'income': 'target'}, inplace=True)\n",
    "\n",
    "greater = df.target.sum()/df.shape[0]\n",
    "less = 1 - greater \n",
    "print('Target Distribution:')\n",
    "print(f'0: {less*100:.3}%  |  1: {greater*100:.3}%')"
   ]
  },
  {
   "cell_type": "markdown",
   "metadata": {},
   "source": [
    "We can see that about that the majority has an annual income less than 50K. \n",
    "\n",
    "We'll continue with some feature engineering."
   ]
  },
  {
   "cell_type": "markdown",
   "metadata": {},
   "source": [
    "# Feature Engineering"
   ]
  },
  {
   "cell_type": "markdown",
   "metadata": {},
   "source": [
    "Most of our qualitative feautures have several possible values, we'll analize those categories and merge into a single category those that have a similar proportion of individuals with <target=1>, and due to their characterisitcs could belong together (we'll prioritize similar proportions).\n",
    "\n",
    "We'll then plot the resulting values using our plot function."
   ]
  },
  {
   "cell_type": "code",
   "execution_count": 11,
   "metadata": {},
   "outputs": [],
   "source": [
    "def count_plot(df, y_str):\n",
    "    plt.figure(figsize=(10,6))\n",
    "    sns.countplot(data=df, y=y_str, hue='target')\n",
    "    plt.title(y_str.upper(), size=14);"
   ]
  },
  {
   "cell_type": "markdown",
   "metadata": {},
   "source": [
    "### Workclass"
   ]
  },
  {
   "cell_type": "code",
   "execution_count": 12,
   "metadata": {},
   "outputs": [
    {
     "data": {
      "text/plain": [
       "array(['State-gov', 'Self-emp-not-inc', 'Private', 'Federal-gov',\n",
       "       'Local-gov', '?', 'Self-emp-inc', 'Without-pay', 'Never-worked'],\n",
       "      dtype=object)"
      ]
     },
     "execution_count": 12,
     "metadata": {},
     "output_type": "execute_result"
    }
   ],
   "source": [
    "df['workclass'].unique()"
   ]
  },
  {
   "cell_type": "code",
   "execution_count": 13,
   "metadata": {
    "scrolled": false
   },
   "outputs": [
    {
     "data": {
      "text/html": [
       "<div>\n",
       "<style scoped>\n",
       "    .dataframe tbody tr th:only-of-type {\n",
       "        vertical-align: middle;\n",
       "    }\n",
       "\n",
       "    .dataframe tbody tr th {\n",
       "        vertical-align: top;\n",
       "    }\n",
       "\n",
       "    .dataframe thead th {\n",
       "        text-align: right;\n",
       "    }\n",
       "</style>\n",
       "<table border=\"1\" class=\"dataframe\">\n",
       "  <thead>\n",
       "    <tr style=\"text-align: right;\">\n",
       "      <th></th>\n",
       "      <th>age</th>\n",
       "      <th>workclass</th>\n",
       "      <th>final_wgt</th>\n",
       "      <th>ed</th>\n",
       "      <th>ed_years</th>\n",
       "      <th>m_status</th>\n",
       "      <th>occ</th>\n",
       "      <th>relat</th>\n",
       "      <th>race</th>\n",
       "      <th>sex</th>\n",
       "      <th>cptl_gain</th>\n",
       "      <th>cptl_loss</th>\n",
       "      <th>work_hr</th>\n",
       "      <th>native</th>\n",
       "      <th>target</th>\n",
       "    </tr>\n",
       "  </thead>\n",
       "  <tbody>\n",
       "    <tr>\n",
       "      <th>27</th>\n",
       "      <td>54</td>\n",
       "      <td>?</td>\n",
       "      <td>180211</td>\n",
       "      <td>Some-college</td>\n",
       "      <td>10</td>\n",
       "      <td>Married-civ-spouse</td>\n",
       "      <td>?</td>\n",
       "      <td>Husband</td>\n",
       "      <td>Asian-Pac-Islander</td>\n",
       "      <td>Male</td>\n",
       "      <td>0</td>\n",
       "      <td>0</td>\n",
       "      <td>60</td>\n",
       "      <td>South</td>\n",
       "      <td>1</td>\n",
       "    </tr>\n",
       "    <tr>\n",
       "      <th>61</th>\n",
       "      <td>32</td>\n",
       "      <td>?</td>\n",
       "      <td>293936</td>\n",
       "      <td>7th-8th</td>\n",
       "      <td>4</td>\n",
       "      <td>Married-spouse-absent</td>\n",
       "      <td>?</td>\n",
       "      <td>Not-in-family</td>\n",
       "      <td>White</td>\n",
       "      <td>Male</td>\n",
       "      <td>0</td>\n",
       "      <td>0</td>\n",
       "      <td>40</td>\n",
       "      <td>?</td>\n",
       "      <td>0</td>\n",
       "    </tr>\n",
       "    <tr>\n",
       "      <th>69</th>\n",
       "      <td>25</td>\n",
       "      <td>?</td>\n",
       "      <td>200681</td>\n",
       "      <td>Some-college</td>\n",
       "      <td>10</td>\n",
       "      <td>Never-married</td>\n",
       "      <td>?</td>\n",
       "      <td>Own-child</td>\n",
       "      <td>White</td>\n",
       "      <td>Male</td>\n",
       "      <td>0</td>\n",
       "      <td>0</td>\n",
       "      <td>40</td>\n",
       "      <td>United-States</td>\n",
       "      <td>0</td>\n",
       "    </tr>\n",
       "  </tbody>\n",
       "</table>\n",
       "</div>"
      ],
      "text/plain": [
       "    age workclass  final_wgt            ed  ed_years               m_status  \\\n",
       "27   54         ?     180211  Some-college        10     Married-civ-spouse   \n",
       "61   32         ?     293936       7th-8th         4  Married-spouse-absent   \n",
       "69   25         ?     200681  Some-college        10          Never-married   \n",
       "\n",
       "   occ          relat                race   sex  cptl_gain  cptl_loss  \\\n",
       "27   ?        Husband  Asian-Pac-Islander  Male          0          0   \n",
       "61   ?  Not-in-family               White  Male          0          0   \n",
       "69   ?      Own-child               White  Male          0          0   \n",
       "\n",
       "    work_hr         native  target  \n",
       "27       60          South       1  \n",
       "61       40              ?       0  \n",
       "69       40  United-States       0  "
      ]
     },
     "execution_count": 13,
     "metadata": {},
     "output_type": "execute_result"
    }
   ],
   "source": [
    "no_value = df[df['workclass']=='?']\n",
    "no_value.head(3)"
   ]
  },
  {
   "cell_type": "markdown",
   "metadata": {},
   "source": [
    "There are some null entries as **\"?\"**. We don't know what possible category the individual belongs to; and since the categories are significant for our analysis, we'll drop the entire row. "
   ]
  },
  {
   "cell_type": "code",
   "execution_count": 14,
   "metadata": {
    "scrolled": true
   },
   "outputs": [
    {
     "data": {
      "text/plain": [
       "array(['State-gov', 'Self-emp-not-inc', 'Private', 'Federal-gov',\n",
       "       'Local-gov', 'Self-emp-inc', 'Without-pay', 'Never-worked'],\n",
       "      dtype=object)"
      ]
     },
     "execution_count": 14,
     "metadata": {},
     "output_type": "execute_result"
    }
   ],
   "source": [
    "df = df.drop(no_value.index.values, axis=0)\n",
    "df['workclass'].unique()"
   ]
  },
  {
   "cell_type": "code",
   "execution_count": 15,
   "metadata": {},
   "outputs": [
    {
     "data": {
      "text/plain": [
       "workclass\n",
       "Never-worked        0.000000\n",
       "Without-pay         0.000000\n",
       "Private             0.218673\n",
       "State-gov           0.271957\n",
       "Self-emp-not-inc    0.284927\n",
       "Local-gov           0.294792\n",
       "Federal-gov         0.386458\n",
       "Self-emp-inc        0.557348\n",
       "Name: target, dtype: float64"
      ]
     },
     "execution_count": 15,
     "metadata": {},
     "output_type": "execute_result"
    }
   ],
   "source": [
    "workclass = df.groupby('workclass')\n",
    "workclass['target'].agg('mean').sort_values()"
   ]
  },
  {
   "cell_type": "markdown",
   "metadata": {},
   "source": [
    "We'll merge **<'Never-worked','Without-pay'>** and **<'Local-gov','State-gov'>**."
   ]
  },
  {
   "cell_type": "code",
   "execution_count": 16,
   "metadata": {},
   "outputs": [
    {
     "data": {
      "text/plain": [
       "array(['Gov_nofed', 'Self-emp-not-inc', 'Private', 'Federal-gov',\n",
       "       'Self-emp-inc', 'No_job'], dtype=object)"
      ]
     },
     "execution_count": 16,
     "metadata": {},
     "output_type": "execute_result"
    }
   ],
   "source": [
    "df['workclass'] = df['workclass'].apply(lambda x: x.replace(x, 'Gov_nofed') if x in ['Local-gov','State-gov'] else x)\n",
    "df['workclass'] = df['workclass'].apply(lambda x: x.replace(x, 'No_job') if x in ['Never-worked','Without-pay'] else x)\n",
    "df['workclass'].unique() "
   ]
  },
  {
   "cell_type": "code",
   "execution_count": 17,
   "metadata": {},
   "outputs": [
    {
     "data": {
      "image/png": "[encoded data removed]",
      "text/plain": [
       "<Figure size 720x432 with 1 Axes>"
      ]
     },
     "metadata": {},
     "output_type": "display_data"
    }
   ],
   "source": [
    "count_plot(df, 'workclass')"
   ]
  },
  {
   "cell_type": "markdown",
   "metadata": {},
   "source": [
    "### Education"
   ]
  },
  {
   "cell_type": "code",
   "execution_count": 18,
   "metadata": {},
   "outputs": [
    {
     "data": {
      "text/plain": [
       "ed\n",
       "Preschool       0.000000\n",
       "1st-4th         0.038462\n",
       "5th-6th         0.046205\n",
       "9th             0.056156\n",
       "11th            0.056764\n",
       "7th-8th         0.066202\n",
       "10th            0.072029\n",
       "12th            0.078880\n",
       "HS-grad         0.163407\n",
       "Some-college    0.199498\n",
       "Assoc-acdm      0.253922\n",
       "Assoc-voc       0.263437\n",
       "Bachelors       0.419915\n",
       "Masters         0.561791\n",
       "Doctorate       0.741206\n",
       "Prof-school     0.743728\n",
       "Name: target, dtype: float64"
      ]
     },
     "execution_count": 18,
     "metadata": {},
     "output_type": "execute_result"
    }
   ],
   "source": [
    "ed = df.groupby('ed')\n",
    "ed['target'].agg('mean').sort_values()"
   ]
  },
  {
   "cell_type": "markdown",
   "metadata": {},
   "source": [
    "We'll merge **<from Preschool to 12th>**, **<'Assoc-voc','Assoc-acdm'>** and **<'Doctorate','Prof-school'>**."
   ]
  },
  {
   "cell_type": "code",
   "execution_count": 19,
   "metadata": {
    "scrolled": true
   },
   "outputs": [
    {
     "data": {
      "text/plain": [
       "array(['11th', '9th', '7th-8th', '5th-6th', '10th', 'Preschool', '12th',\n",
       "       '1st-4th'], dtype=object)"
      ]
     },
     "execution_count": 19,
     "metadata": {},
     "output_type": "execute_result"
    }
   ],
   "source": [
    "HSnon = df[df['ed_years']<9]['ed'].unique()\n",
    "HSnon"
   ]
  },
  {
   "cell_type": "code",
   "execution_count": 20,
   "metadata": {},
   "outputs": [
    {
     "data": {
      "text/plain": [
       "array(['Bachelors', 'HS-grad', 'HS_none', 'Masters', 'Some-college',\n",
       "       'Assoc', 'Prof_Phd'], dtype=object)"
      ]
     },
     "execution_count": 20,
     "metadata": {},
     "output_type": "execute_result"
    }
   ],
   "source": [
    "df['ed'] = df['ed'].apply(lambda x: x.replace(x, 'HS_none') if x in HSnon else x)\n",
    "df['ed'] = df['ed'].apply(lambda x: x.replace(x, 'Assoc') if x in ['Assoc-voc','Assoc-acdm'] else x)\n",
    "df['ed'] = df['ed'].apply(lambda x: x.replace(x, 'Prof_Phd') if x in ['Doctorate','Prof-school'] else x)\n",
    "df['ed'].unique()"
   ]
  },
  {
   "cell_type": "code",
   "execution_count": 21,
   "metadata": {},
   "outputs": [
    {
     "data": {
      "text/plain": [
       "ed\n",
       "HS_none         0.061438\n",
       "HS-grad         0.163407\n",
       "Some-college    0.199498\n",
       "Assoc           0.259291\n",
       "Bachelors       0.419915\n",
       "Masters         0.561791\n",
       "Prof_Phd        0.742678\n",
       "Name: target, dtype: float64"
      ]
     },
     "execution_count": 21,
     "metadata": {},
     "output_type": "execute_result"
    }
   ],
   "source": [
    "ed = df.groupby('ed')\n",
    "ed['target'].agg('mean').sort_values()"
   ]
  },
  {
   "cell_type": "code",
   "execution_count": 22,
   "metadata": {},
   "outputs": [
    {
     "data": {
      "image/png": "[encoded data removed]",
      "text/plain": [
       "<Figure size 720x432 with 1 Axes>"
      ]
     },
     "metadata": {},
     "output_type": "display_data"
    }
   ],
   "source": [
    "count_plot(df, 'ed')"
   ]
  },
  {
   "cell_type": "markdown",
   "metadata": {},
   "source": [
    "### Marital Status"
   ]
  },
  {
   "cell_type": "code",
   "execution_count": 23,
   "metadata": {},
   "outputs": [
    {
     "data": {
      "text/plain": [
       "m_status\n",
       "Divorced                 0.107302\n",
       "Married-AF-spouse        0.476190\n",
       "Married-civ-spouse       0.454742\n",
       "Married-spouse-absent    0.084833\n",
       "Never-married            0.048603\n",
       "Separated                0.068822\n",
       "Widowed                  0.096429\n",
       "Name: target, dtype: float64"
      ]
     },
     "execution_count": 23,
     "metadata": {},
     "output_type": "execute_result"
    }
   ],
   "source": [
    "marital = df.groupby('m_status')\n",
    "marital['target'].agg('mean')"
   ]
  },
  {
   "cell_type": "markdown",
   "metadata": {},
   "source": [
    "We'll merget **<'Married-AF-spouse', 'Married-civ-spouse'>** and **<'Divorced', 'Married-spouse-absent', 'Separated', 'Widowed'>**."
   ]
  },
  {
   "cell_type": "code",
   "execution_count": 24,
   "metadata": {},
   "outputs": [
    {
     "data": {
      "text/plain": [
       "array(['Never-married', 'Married', 'Married_bef'], dtype=object)"
      ]
     },
     "execution_count": 24,
     "metadata": {},
     "output_type": "execute_result"
    }
   ],
   "source": [
    "mar = ['Married-AF-spouse', 'Married-civ-spouse']\n",
    "mar_no = ['Divorced', 'Married-spouse-absent', 'Separated', 'Widowed']\n",
    "df['m_status'] = df['m_status'].apply(lambda x: x.replace(x, 'Married') if x in mar else x)\n",
    "df['m_status'] = df['m_status'].apply(lambda x: x.replace(x, 'Married_bef') if x in mar_no else x)\n",
    "df['m_status'].unique()"
   ]
  },
  {
   "cell_type": "code",
   "execution_count": 25,
   "metadata": {
    "scrolled": true
   },
   "outputs": [
    {
     "data": {
      "text/plain": [
       "m_status\n",
       "Married          0.454773\n",
       "Married_bef      0.098806\n",
       "Never-married    0.048603\n",
       "Name: target, dtype: float64"
      ]
     },
     "execution_count": 25,
     "metadata": {},
     "output_type": "execute_result"
    }
   ],
   "source": [
    "marital = df.groupby('m_status')\n",
    "marital['target'].agg('mean')"
   ]
  },
  {
   "cell_type": "code",
   "execution_count": 26,
   "metadata": {},
   "outputs": [
    {
     "data": {
      "image/png": "[encoded data removed]",
      "text/plain": [
       "<Figure size 720x432 with 1 Axes>"
      ]
     },
     "metadata": {},
     "output_type": "display_data"
    }
   ],
   "source": [
    "count_plot(df, 'm_status')"
   ]
  },
  {
   "cell_type": "markdown",
   "metadata": {},
   "source": [
    "### Occupation"
   ]
  },
  {
   "cell_type": "code",
   "execution_count": 27,
   "metadata": {
    "scrolled": true
   },
   "outputs": [
    {
     "data": {
      "text/plain": [
       "array(['Adm-clerical', 'Exec-managerial', 'Handlers-cleaners',\n",
       "       'Prof-specialty', 'Other-service', 'Sales', 'Craft-repair',\n",
       "       'Transport-moving', 'Farming-fishing', 'Machine-op-inspct',\n",
       "       'Tech-support', 'Protective-serv', 'Armed-Forces',\n",
       "       'Priv-house-serv', '?'], dtype=object)"
      ]
     },
     "execution_count": 27,
     "metadata": {},
     "output_type": "execute_result"
    }
   ],
   "source": [
    "df.occ.unique()"
   ]
  },
  {
   "cell_type": "markdown",
   "metadata": {},
   "source": [
    "Dropping **\"?\"** entries."
   ]
  },
  {
   "cell_type": "code",
   "execution_count": 28,
   "metadata": {
    "scrolled": false
   },
   "outputs": [
    {
     "data": {
      "text/plain": [
       "array(['Adm-clerical', 'Exec-managerial', 'Handlers-cleaners',\n",
       "       'Prof-specialty', 'Other-service', 'Sales', 'Craft-repair',\n",
       "       'Transport-moving', 'Farming-fishing', 'Machine-op-inspct',\n",
       "       'Tech-support', 'Protective-serv', 'Armed-Forces',\n",
       "       'Priv-house-serv'], dtype=object)"
      ]
     },
     "execution_count": 28,
     "metadata": {},
     "output_type": "execute_result"
    }
   ],
   "source": [
    "no_value_occ = df[df['occ']=='?']\n",
    "df = df.drop(no_value_occ.index.values, axis=0)\n",
    "df['occ'].unique()"
   ]
  },
  {
   "cell_type": "code",
   "execution_count": 29,
   "metadata": {},
   "outputs": [
    {
     "data": {
      "text/plain": [
       "occ\n",
       "Priv-house-serv      0.006711\n",
       "Other-service        0.041578\n",
       "Handlers-cleaners    0.062774\n",
       "Armed-Forces         0.111111\n",
       "Farming-fishing      0.115694\n",
       "Machine-op-inspct    0.124875\n",
       "Adm-clerical         0.134483\n",
       "Transport-moving     0.200376\n",
       "Craft-repair         0.226641\n",
       "Sales                0.269315\n",
       "Tech-support         0.304957\n",
       "Protective-serv      0.325116\n",
       "Prof-specialty       0.449034\n",
       "Exec-managerial      0.484014\n",
       "Name: target, dtype: float64"
      ]
     },
     "execution_count": 29,
     "metadata": {},
     "output_type": "execute_result"
    }
   ],
   "source": [
    "occ = df.groupby('occ')\n",
    "occ['target'].agg('mean').sort_values()"
   ]
  },
  {
   "cell_type": "markdown",
   "metadata": {},
   "source": [
    "We have many different kinds of occupations and not a natural way to group them. To avoid having so many categories we'll prioritize their proportions of <target=1> and merge them into five groups **<'low','lowh','mid','lhigh','high'>**."
   ]
  },
  {
   "cell_type": "code",
   "execution_count": 30,
   "metadata": {},
   "outputs": [
    {
     "data": {
      "text/plain": [
       "array(['lowh', 'high', 'low', 'mid', 'highl'], dtype=object)"
      ]
     },
     "execution_count": 30,
     "metadata": {},
     "output_type": "execute_result"
    }
   ],
   "source": [
    "occ_low = ['Priv-house-serv', 'Other-service', 'Handlers-cleaners']\n",
    "occ_lowh = ['Armed-Forces', 'Farming-fishing', 'Machine-op-inspct', 'Adm-clerical'] \n",
    "occ_mid = ['Transport-moving', 'Craft-repair', 'Sales']\n",
    "occ_highl = ['Tech-support', 'Protective-serv']\n",
    "occ_high = ['Prof-specialty', 'Exec-managerial']\n",
    "df['occ'] = df['occ'].apply(lambda x: x.replace(x, 'low') if x in occ_low else x)\n",
    "df['occ'] = df['occ'].apply(lambda x: x.replace(x, 'lowh') if x in occ_lowh else x)\n",
    "df['occ'] = df['occ'].apply(lambda x: x.replace(x, 'mid') if x in occ_mid else x)\n",
    "df['occ'] = df['occ'].apply(lambda x: x.replace(x, 'highl') if x in occ_highl else x)\n",
    "df['occ'] = df['occ'].apply(lambda x: x.replace(x, 'high') if x in occ_high else x)\n",
    "df['occ'].unique()"
   ]
  },
  {
   "cell_type": "code",
   "execution_count": 31,
   "metadata": {
    "scrolled": true
   },
   "outputs": [
    {
     "data": {
      "text/plain": [
       "occ\n",
       "low      0.046531\n",
       "lowh     0.128856\n",
       "mid      0.238819\n",
       "highl    0.313253\n",
       "high     0.466366\n",
       "Name: target, dtype: float64"
      ]
     },
     "execution_count": 31,
     "metadata": {},
     "output_type": "execute_result"
    }
   ],
   "source": [
    "occ = df.groupby('occ')\n",
    "occ['target'].agg('mean').sort_values()"
   ]
  },
  {
   "cell_type": "code",
   "execution_count": 32,
   "metadata": {},
   "outputs": [
    {
     "data": {
      "image/png": "[encoded data removed]",
      "text/plain": [
       "<Figure size 720x432 with 1 Axes>"
      ]
     },
     "metadata": {},
     "output_type": "display_data"
    }
   ],
   "source": [
    "count_plot(df, 'occ')"
   ]
  },
  {
   "cell_type": "markdown",
   "metadata": {},
   "source": [
    "### Relationship"
   ]
  },
  {
   "cell_type": "code",
   "execution_count": 33,
   "metadata": {},
   "outputs": [
    {
     "data": {
      "text/plain": [
       "relat\n",
       "Own-child         0.014586\n",
       "Other-relative    0.039216\n",
       "Unmarried         0.066035\n",
       "Not-in-family     0.106548\n",
       "Husband           0.455683\n",
       "Wife              0.491289\n",
       "Name: target, dtype: float64"
      ]
     },
     "execution_count": 33,
     "metadata": {},
     "output_type": "execute_result"
    }
   ],
   "source": [
    "relat = df.groupby('relat')\n",
    "relat['target'].agg('mean').sort_values()"
   ]
  },
  {
   "cell_type": "markdown",
   "metadata": {},
   "source": [
    "We'll merge **<'Husband','Wife'>**."
   ]
  },
  {
   "cell_type": "code",
   "execution_count": 34,
   "metadata": {},
   "outputs": [
    {
     "data": {
      "text/plain": [
       "array(['Not-in-family', 'Husb_Wife', 'Own-child', 'Unmarried',\n",
       "       'Other-relative'], dtype=object)"
      ]
     },
     "execution_count": 34,
     "metadata": {},
     "output_type": "execute_result"
    }
   ],
   "source": [
    "df['relat'] = df['relat'].apply(lambda x: x.replace(x, 'Husb_Wife') if x in ['Husband','Wife'] else x)\n",
    "df['relat'].unique()"
   ]
  },
  {
   "cell_type": "code",
   "execution_count": 35,
   "metadata": {
    "scrolled": true
   },
   "outputs": [
    {
     "data": {
      "text/plain": [
       "relat\n",
       "Own-child         0.014586\n",
       "Other-relative    0.039216\n",
       "Unmarried         0.066035\n",
       "Not-in-family     0.106548\n",
       "Husb_Wife         0.459297\n",
       "Name: target, dtype: float64"
      ]
     },
     "execution_count": 35,
     "metadata": {},
     "output_type": "execute_result"
    }
   ],
   "source": [
    "relat = df.groupby('relat')\n",
    "relat['target'].agg('mean').sort_values()"
   ]
  },
  {
   "cell_type": "code",
   "execution_count": 36,
   "metadata": {},
   "outputs": [
    {
     "data": {
      "image/png": "[encoded data removed]",
      "text/plain": [
       "<Figure size 720x432 with 1 Axes>"
      ]
     },
     "metadata": {},
     "output_type": "display_data"
    }
   ],
   "source": [
    "count_plot(df, 'relat')"
   ]
  },
  {
   "cell_type": "markdown",
   "metadata": {},
   "source": [
    "### Race"
   ]
  },
  {
   "cell_type": "code",
   "execution_count": 37,
   "metadata": {
    "scrolled": false
   },
   "outputs": [
    {
     "data": {
      "text/plain": [
       "race\n",
       "Other                 0.092742\n",
       "Amer-Indian-Eskimo    0.118881\n",
       "Black                 0.129942\n",
       "White                 0.264020\n",
       "Asian-Pac-Islander    0.278234\n",
       "Name: target, dtype: float64"
      ]
     },
     "execution_count": 37,
     "metadata": {},
     "output_type": "execute_result"
    }
   ],
   "source": [
    "race = df.groupby('race')\n",
    "race['target'].agg('mean').sort_values()"
   ]
  },
  {
   "cell_type": "markdown",
   "metadata": {},
   "source": [
    "We'll merge **<'Asian-Pac-Islander','White'>** since they have almost identical proportions."
   ]
  },
  {
   "cell_type": "code",
   "execution_count": 38,
   "metadata": {},
   "outputs": [],
   "source": [
    "#df['race'] = df['race'].apply(lambda x: x.replace(x, 'White_Asian') if x in ['Asian-Pac-Islander','White'] else x)\n",
    "#df['race'].unique()"
   ]
  },
  {
   "cell_type": "code",
   "execution_count": 39,
   "metadata": {},
   "outputs": [
    {
     "data": {
      "text/plain": [
       "race\n",
       "Other                 0.092742\n",
       "Amer-Indian-Eskimo    0.118881\n",
       "Black                 0.129942\n",
       "White                 0.264020\n",
       "Asian-Pac-Islander    0.278234\n",
       "Name: target, dtype: float64"
      ]
     },
     "execution_count": 39,
     "metadata": {},
     "output_type": "execute_result"
    }
   ],
   "source": [
    "race = df.groupby('race')\n",
    "race['target'].agg('mean').sort_values()"
   ]
  },
  {
   "cell_type": "code",
   "execution_count": 40,
   "metadata": {},
   "outputs": [
    {
     "data": {
      "image/png": "[encoded data removed]",
      "text/plain": [
       "<Figure size 720x432 with 1 Axes>"
      ]
     },
     "metadata": {},
     "output_type": "display_data"
    }
   ],
   "source": [
    "count_plot(df, 'race')"
   ]
  },
  {
   "cell_type": "markdown",
   "metadata": {},
   "source": [
    "### Sex"
   ]
  },
  {
   "cell_type": "code",
   "execution_count": 41,
   "metadata": {
    "scrolled": true
   },
   "outputs": [
    {
     "data": {
      "text/plain": [
       "sex\n",
       "Female    0.113494\n",
       "Male      0.313787\n",
       "Name: target, dtype: float64"
      ]
     },
     "execution_count": 41,
     "metadata": {},
     "output_type": "execute_result"
    }
   ],
   "source": [
    "sex = df.groupby('sex')\n",
    "sex['target'].agg('mean').sort_values()"
   ]
  },
  {
   "cell_type": "code",
   "execution_count": 42,
   "metadata": {},
   "outputs": [
    {
     "data": {
      "image/png": "[encoded data removed]",
      "text/plain": [
       "<Figure size 720x432 with 1 Axes>"
      ]
     },
     "metadata": {},
     "output_type": "display_data"
    }
   ],
   "source": [
    "count_plot(df, 'sex')"
   ]
  },
  {
   "cell_type": "markdown",
   "metadata": {},
   "source": [
    "### Native"
   ]
  },
  {
   "cell_type": "code",
   "execution_count": 43,
   "metadata": {
    "scrolled": true
   },
   "outputs": [
    {
     "data": {
      "text/plain": [
       "array(['United-States', 'Cuba', 'Jamaica', 'India', '?', 'Mexico',\n",
       "       'Puerto-Rico', 'Honduras', 'England', 'Canada', 'Germany', 'Iran',\n",
       "       'Philippines', 'Poland', 'Columbia', 'Cambodia', 'Thailand',\n",
       "       'Ecuador', 'Laos', 'Taiwan', 'Haiti', 'Portugal',\n",
       "       'Dominican-Republic', 'El-Salvador', 'France', 'Guatemala',\n",
       "       'Italy', 'China', 'South', 'Japan', 'Yugoslavia', 'Peru',\n",
       "       'Outlying-US(Guam-USVI-etc)', 'Scotland', 'Trinadad&Tobago',\n",
       "       'Greece', 'Nicaragua', 'Vietnam', 'Hong', 'Ireland', 'Hungary',\n",
       "       'Holand-Netherlands'], dtype=object)"
      ]
     },
     "execution_count": 43,
     "metadata": {},
     "output_type": "execute_result"
    }
   ],
   "source": [
    "df.native.unique()"
   ]
  },
  {
   "cell_type": "markdown",
   "metadata": {},
   "source": [
    "Dropping **\"?\"** entries."
   ]
  },
  {
   "cell_type": "code",
   "execution_count": 44,
   "metadata": {},
   "outputs": [],
   "source": [
    "native_none = df[df['native'] == '?']\n",
    "df.drop(native_none.index.values, axis=0, inplace=True)"
   ]
  },
  {
   "cell_type": "code",
   "execution_count": 45,
   "metadata": {},
   "outputs": [
    {
     "data": {
      "text/html": [
       "<div>\n",
       "<style scoped>\n",
       "    .dataframe tbody tr th:only-of-type {\n",
       "        vertical-align: middle;\n",
       "    }\n",
       "\n",
       "    .dataframe tbody tr th {\n",
       "        vertical-align: top;\n",
       "    }\n",
       "\n",
       "    .dataframe thead th {\n",
       "        text-align: right;\n",
       "    }\n",
       "</style>\n",
       "<table border=\"1\" class=\"dataframe\">\n",
       "  <thead>\n",
       "    <tr style=\"text-align: right;\">\n",
       "      <th></th>\n",
       "      <th>target</th>\n",
       "    </tr>\n",
       "    <tr>\n",
       "      <th>native</th>\n",
       "      <th></th>\n",
       "    </tr>\n",
       "  </thead>\n",
       "  <tbody>\n",
       "    <tr>\n",
       "      <th>Taiwan</th>\n",
       "      <td>0.452381</td>\n",
       "    </tr>\n",
       "    <tr>\n",
       "      <th>France</th>\n",
       "      <td>0.444444</td>\n",
       "    </tr>\n",
       "    <tr>\n",
       "      <th>Iran</th>\n",
       "      <td>0.428571</td>\n",
       "    </tr>\n",
       "    <tr>\n",
       "      <th>India</th>\n",
       "      <td>0.400000</td>\n",
       "    </tr>\n",
       "    <tr>\n",
       "      <th>Japan</th>\n",
       "      <td>0.389831</td>\n",
       "    </tr>\n",
       "    <tr>\n",
       "      <th>Cambodia</th>\n",
       "      <td>0.388889</td>\n",
       "    </tr>\n",
       "    <tr>\n",
       "      <th>Yugoslavia</th>\n",
       "      <td>0.375000</td>\n",
       "    </tr>\n",
       "    <tr>\n",
       "      <th>Italy</th>\n",
       "      <td>0.352941</td>\n",
       "    </tr>\n",
       "    <tr>\n",
       "      <th>England</th>\n",
       "      <td>0.348837</td>\n",
       "    </tr>\n",
       "    <tr>\n",
       "      <th>Germany</th>\n",
       "      <td>0.343750</td>\n",
       "    </tr>\n",
       "    <tr>\n",
       "      <th>Canada</th>\n",
       "      <td>0.336449</td>\n",
       "    </tr>\n",
       "    <tr>\n",
       "      <th>Philippines</th>\n",
       "      <td>0.319149</td>\n",
       "    </tr>\n",
       "    <tr>\n",
       "      <th>Hong</th>\n",
       "      <td>0.315789</td>\n",
       "    </tr>\n",
       "    <tr>\n",
       "      <th>China</th>\n",
       "      <td>0.294118</td>\n",
       "    </tr>\n",
       "    <tr>\n",
       "      <th>Greece</th>\n",
       "      <td>0.275862</td>\n",
       "    </tr>\n",
       "    <tr>\n",
       "      <th>Cuba</th>\n",
       "      <td>0.271739</td>\n",
       "    </tr>\n",
       "    <tr>\n",
       "      <th>United-States</th>\n",
       "      <td>0.254327</td>\n",
       "    </tr>\n",
       "    <tr>\n",
       "      <th>Hungary</th>\n",
       "      <td>0.230769</td>\n",
       "    </tr>\n",
       "    <tr>\n",
       "      <th>Ireland</th>\n",
       "      <td>0.208333</td>\n",
       "    </tr>\n",
       "    <tr>\n",
       "      <th>South</th>\n",
       "      <td>0.197183</td>\n",
       "    </tr>\n",
       "    <tr>\n",
       "      <th>Poland</th>\n",
       "      <td>0.196429</td>\n",
       "    </tr>\n",
       "    <tr>\n",
       "      <th>Scotland</th>\n",
       "      <td>0.181818</td>\n",
       "    </tr>\n",
       "    <tr>\n",
       "      <th>Thailand</th>\n",
       "      <td>0.176471</td>\n",
       "    </tr>\n",
       "    <tr>\n",
       "      <th>Ecuador</th>\n",
       "      <td>0.148148</td>\n",
       "    </tr>\n",
       "    <tr>\n",
       "      <th>Jamaica</th>\n",
       "      <td>0.125000</td>\n",
       "    </tr>\n",
       "    <tr>\n",
       "      <th>Portugal</th>\n",
       "      <td>0.117647</td>\n",
       "    </tr>\n",
       "    <tr>\n",
       "      <th>Laos</th>\n",
       "      <td>0.117647</td>\n",
       "    </tr>\n",
       "    <tr>\n",
       "      <th>Trinadad&amp;Tobago</th>\n",
       "      <td>0.111111</td>\n",
       "    </tr>\n",
       "    <tr>\n",
       "      <th>Puerto-Rico</th>\n",
       "      <td>0.110092</td>\n",
       "    </tr>\n",
       "    <tr>\n",
       "      <th>Haiti</th>\n",
       "      <td>0.095238</td>\n",
       "    </tr>\n",
       "    <tr>\n",
       "      <th>El-Salvador</th>\n",
       "      <td>0.090000</td>\n",
       "    </tr>\n",
       "    <tr>\n",
       "      <th>Honduras</th>\n",
       "      <td>0.083333</td>\n",
       "    </tr>\n",
       "    <tr>\n",
       "      <th>Vietnam</th>\n",
       "      <td>0.078125</td>\n",
       "    </tr>\n",
       "    <tr>\n",
       "      <th>Peru</th>\n",
       "      <td>0.066667</td>\n",
       "    </tr>\n",
       "    <tr>\n",
       "      <th>Nicaragua</th>\n",
       "      <td>0.060606</td>\n",
       "    </tr>\n",
       "    <tr>\n",
       "      <th>Mexico</th>\n",
       "      <td>0.054098</td>\n",
       "    </tr>\n",
       "    <tr>\n",
       "      <th>Guatemala</th>\n",
       "      <td>0.047619</td>\n",
       "    </tr>\n",
       "    <tr>\n",
       "      <th>Columbia</th>\n",
       "      <td>0.035714</td>\n",
       "    </tr>\n",
       "    <tr>\n",
       "      <th>Dominican-Republic</th>\n",
       "      <td>0.029851</td>\n",
       "    </tr>\n",
       "    <tr>\n",
       "      <th>Outlying-US(Guam-USVI-etc)</th>\n",
       "      <td>0.000000</td>\n",
       "    </tr>\n",
       "    <tr>\n",
       "      <th>Holand-Netherlands</th>\n",
       "      <td>0.000000</td>\n",
       "    </tr>\n",
       "  </tbody>\n",
       "</table>\n",
       "</div>"
      ],
      "text/plain": [
       "                              target\n",
       "native                              \n",
       "Taiwan                      0.452381\n",
       "France                      0.444444\n",
       "Iran                        0.428571\n",
       "India                       0.400000\n",
       "Japan                       0.389831\n",
       "Cambodia                    0.388889\n",
       "Yugoslavia                  0.375000\n",
       "Italy                       0.352941\n",
       "England                     0.348837\n",
       "Germany                     0.343750\n",
       "Canada                      0.336449\n",
       "Philippines                 0.319149\n",
       "Hong                        0.315789\n",
       "China                       0.294118\n",
       "Greece                      0.275862\n",
       "Cuba                        0.271739\n",
       "United-States               0.254327\n",
       "Hungary                     0.230769\n",
       "Ireland                     0.208333\n",
       "South                       0.197183\n",
       "Poland                      0.196429\n",
       "Scotland                    0.181818\n",
       "Thailand                    0.176471\n",
       "Ecuador                     0.148148\n",
       "Jamaica                     0.125000\n",
       "Portugal                    0.117647\n",
       "Laos                        0.117647\n",
       "Trinadad&Tobago             0.111111\n",
       "Puerto-Rico                 0.110092\n",
       "Haiti                       0.095238\n",
       "El-Salvador                 0.090000\n",
       "Honduras                    0.083333\n",
       "Vietnam                     0.078125\n",
       "Peru                        0.066667\n",
       "Nicaragua                   0.060606\n",
       "Mexico                      0.054098\n",
       "Guatemala                   0.047619\n",
       "Columbia                    0.035714\n",
       "Dominican-Republic          0.029851\n",
       "Outlying-US(Guam-USVI-etc)  0.000000\n",
       "Holand-Netherlands          0.000000"
      ]
     },
     "execution_count": 45,
     "metadata": {},
     "output_type": "execute_result"
    }
   ],
   "source": [
    "native = df.groupby('native')\n",
    "prob = native[['target']].agg('mean').sort_values('target', ascending=False)\n",
    "prob"
   ]
  },
  {
   "cell_type": "markdown",
   "metadata": {},
   "source": [
    "While we can see that most of the Latin-American countries have low proportion of <target=1>, grouping by regions doesn't seem  to fit in general. Again to reduce our categories we'll prioritize the proportions of <target=1> and merge the coutnries into five groups **<'low','lowh','mid','midh','high'>**.  "
   ]
  },
  {
   "cell_type": "code",
   "execution_count": 46,
   "metadata": {},
   "outputs": [
    {
     "data": {
      "text/plain": [
       "array(['mid', 'lowh', 'high', 'low', 'midh'], dtype=object)"
      ]
     },
     "execution_count": 46,
     "metadata": {},
     "output_type": "execute_result"
    }
   ],
   "source": [
    "native_low = prob[prob['target']<.10].index.values\n",
    "native_lowh = prob[(prob['target']>=.10) & (prob['target']<.20)].index.values\n",
    "native_mid = prob[(prob['target']>=.20) & (prob['target']<.30)].index.values\n",
    "native_midh = prob[(prob['target']>=.30) & (prob['target']<.40)].index.values\n",
    "native_high = prob[prob['target']>=.40].index.values\n",
    "\n",
    "df['native'] = df['native'].apply(lambda x: x.replace(x, 'low') if x in native_low else x)\n",
    "df['native'] = df['native'].apply(lambda x: x.replace(x, 'lowh') if x in native_lowh else x)\n",
    "df['native'] = df['native'].apply(lambda x: x.replace(x, 'mid') if x in native_mid else x)\n",
    "df['native'] = df['native'].apply(lambda x: x.replace(x, 'midh') if x in native_midh else x)\n",
    "df['native'] = df['native'].apply(lambda x: x.replace(x, 'high') if x in native_high else x)\n",
    "df.native.unique()\n"
   ]
  },
  {
   "cell_type": "code",
   "execution_count": 47,
   "metadata": {},
   "outputs": [
    {
     "data": {
      "image/png": "[encoded data removed]",
      "text/plain": [
       "<Figure size 720x432 with 1 Axes>"
      ]
     },
     "metadata": {},
     "output_type": "display_data"
    }
   ],
   "source": [
    "count_plot(df, 'native')"
   ]
  },
  {
   "cell_type": "markdown",
   "metadata": {},
   "source": [
    "# Quantitative Variables"
   ]
  },
  {
   "cell_type": "markdown",
   "metadata": {},
   "source": [
    "For our quantitative variables let's compare those entries with <target=0> with those that have <target=1>, and see if we can visually identify some clusters."
   ]
  },
  {
   "cell_type": "code",
   "execution_count": 48,
   "metadata": {
    "scrolled": false
   },
   "outputs": [
    {
     "data": {
      "image/png": "[encoded data removed]",
      "text/plain": [
       "<Figure size 720x1800 with 12 Axes>"
      ]
     },
     "metadata": {},
     "output_type": "display_data"
    }
   ],
   "source": [
    "fig, ax = plt.subplots(6,2, figsize=(10,25))\n",
    "quant_df = df[quant+['target']]\n",
    "for i in range(12):\n",
    "    \n",
    "    if i < 6:\n",
    "        ax[i,0].plot(quant_df[quant_df['target']==0][quant[i]], 'o', color='orange')\n",
    "        ax[i,0].set_title(quant[i]+' = 0')\n",
    "    else:\n",
    "        ax[i-6,1].plot(quant_df[quant_df['target']==1][quant[i-6]], 'o', color='blue')\n",
    "        ax[i-6,1].set_title(quant[i-6]+' = 1')"
   ]
  },
  {
   "cell_type": "markdown",
   "metadata": {},
   "source": [
    "- **cptl_gain** - We can see a cluster of individuals with an entry starting at around 20,000 all the way to 100,000 with <target=1>. \n",
    "- **cptl_loss** - There is a cluster of individuals with an entry of around 2500 and above with <target=1>.\n",
    "- **age** - We can observe that <targe=1> has a disctint majority of entries at 70 and above.  "
   ]
  },
  {
   "cell_type": "markdown",
   "metadata": {},
   "source": [
    "We'll proceed to create our dummy variables and perform a fit a Random Forest Classifier model to our data."
   ]
  },
  {
   "cell_type": "markdown",
   "metadata": {},
   "source": [
    "## Dummy Variables"
   ]
  },
  {
   "cell_type": "code",
   "execution_count": 49,
   "metadata": {},
   "outputs": [],
   "source": [
    "df_tree = pd.get_dummies(df)\n",
    "X = df_tree.drop('target', axis=1)\n",
    "y = df_tree['target']"
   ]
  },
  {
   "cell_type": "markdown",
   "metadata": {},
   "source": [
    "## Random Forest"
   ]
  },
  {
   "cell_type": "code",
   "execution_count": 50,
   "metadata": {},
   "outputs": [],
   "source": [
    "from sklearn.ensemble import RandomForestClassifier"
   ]
  },
  {
   "cell_type": "markdown",
   "metadata": {},
   "source": [
    "Our function will fit a Random Forest for each possible combination given of **n_estimators, min_impurity and min_samples_leaf**, and returns a dataframe with the **train error and out-of-bag error**. \n",
    "\n",
    "Note: Depending on the number of inputs it can take some time to complete."
   ]
  },
  {
   "cell_type": "code",
   "execution_count": 51,
   "metadata": {},
   "outputs": [],
   "source": [
    "def randomForest(X, y, n_estimators, min_impurity, min_samples_leaf):\n",
    "    rf = RandomForestClassifier(random_state=2709)\n",
    "    rf.set_params(n_estimators=n_estimators, min_impurity_decrease=min_impurity, min_samples_leaf=min_samples_leaf,\n",
    "                  max_features='sqrt', oob_score=True)\n",
    "    rf.fit(X,y)\n",
    "    pred = rf.predict(X)\n",
    "    error = sum(pred != y) / len(pred) \n",
    "    oob_error = 1 - rf.oob_score_\n",
    "    oob_dec_func = rf.oob_decision_function_\n",
    "    results = [error, oob_error]\n",
    "    return results, oob_dec_func\n",
    "\n",
    "def fit_rf(X, y, n_estimators, min_impurity, min_samples_leaf):\n",
    "    res_list = []\n",
    "    for i in range(len(n_estimators)):\n",
    "        for j in range(len(min_impurity)):\n",
    "            for k in range(len(min_samples_leaf)):\n",
    "                res, _ = randomForest(X, y, n_estimators[i], min_impurity[j], min_samples_leaf[k])\n",
    "                params = [n_estimators[i], min_impurity[j], min_samples_leaf[k]]\n",
    "                res_list.append(params + res)\n",
    "    \n",
    "    res_df = pd.DataFrame(res_list, columns=['n_estimators', 'min_impurity', 'min_samples_leaf',\n",
    "                                       'train_error', 'oob_error'])\n",
    "    return res_df"
   ]
  },
  {
   "cell_type": "code",
   "execution_count": 52,
   "metadata": {},
   "outputs": [],
   "source": [
    "X = df_tree.drop('target', axis=1)\n",
    "y = df_tree.target"
   ]
  },
  {
   "cell_type": "code",
   "execution_count": 53,
   "metadata": {
    "scrolled": true
   },
   "outputs": [
    {
     "data": {
      "text/html": [
       "<div>\n",
       "<style scoped>\n",
       "    .dataframe tbody tr th:only-of-type {\n",
       "        vertical-align: middle;\n",
       "    }\n",
       "\n",
       "    .dataframe tbody tr th {\n",
       "        vertical-align: top;\n",
       "    }\n",
       "\n",
       "    .dataframe thead th {\n",
       "        text-align: right;\n",
       "    }\n",
       "</style>\n",
       "<table border=\"1\" class=\"dataframe\">\n",
       "  <thead>\n",
       "    <tr style=\"text-align: right;\">\n",
       "      <th></th>\n",
       "      <th>n_estimators</th>\n",
       "      <th>min_impurity</th>\n",
       "      <th>min_samples_leaf</th>\n",
       "      <th>train_error</th>\n",
       "      <th>oob_error</th>\n",
       "    </tr>\n",
       "  </thead>\n",
       "  <tbody>\n",
       "    <tr>\n",
       "      <th>1</th>\n",
       "      <td>1000</td>\n",
       "      <td>0.000005</td>\n",
       "      <td>2.00</td>\n",
       "      <td>0.104337</td>\n",
       "      <td>0.137524</td>\n",
       "    </tr>\n",
       "    <tr>\n",
       "      <th>3</th>\n",
       "      <td>1000</td>\n",
       "      <td>0.000010</td>\n",
       "      <td>2.00</td>\n",
       "      <td>0.110934</td>\n",
       "      <td>0.138220</td>\n",
       "    </tr>\n",
       "    <tr>\n",
       "      <th>5</th>\n",
       "      <td>1000</td>\n",
       "      <td>0.000050</td>\n",
       "      <td>2.00</td>\n",
       "      <td>0.131026</td>\n",
       "      <td>0.141469</td>\n",
       "    </tr>\n",
       "    <tr>\n",
       "      <th>7</th>\n",
       "      <td>1000</td>\n",
       "      <td>0.000100</td>\n",
       "      <td>2.00</td>\n",
       "      <td>0.140077</td>\n",
       "      <td>0.144884</td>\n",
       "    </tr>\n",
       "    <tr>\n",
       "      <th>0</th>\n",
       "      <td>1000</td>\n",
       "      <td>0.000005</td>\n",
       "      <td>0.01</td>\n",
       "      <td>0.161296</td>\n",
       "      <td>0.161594</td>\n",
       "    </tr>\n",
       "    <tr>\n",
       "      <th>2</th>\n",
       "      <td>1000</td>\n",
       "      <td>0.000010</td>\n",
       "      <td>0.01</td>\n",
       "      <td>0.161461</td>\n",
       "      <td>0.161727</td>\n",
       "    </tr>\n",
       "    <tr>\n",
       "      <th>4</th>\n",
       "      <td>1000</td>\n",
       "      <td>0.000050</td>\n",
       "      <td>0.01</td>\n",
       "      <td>0.161892</td>\n",
       "      <td>0.162622</td>\n",
       "    </tr>\n",
       "    <tr>\n",
       "      <th>6</th>\n",
       "      <td>1000</td>\n",
       "      <td>0.000100</td>\n",
       "      <td>0.01</td>\n",
       "      <td>0.162522</td>\n",
       "      <td>0.162788</td>\n",
       "    </tr>\n",
       "  </tbody>\n",
       "</table>\n",
       "</div>"
      ],
      "text/plain": [
       "   n_estimators  min_impurity  min_samples_leaf  train_error  oob_error\n",
       "1          1000      0.000005              2.00     0.104337   0.137524\n",
       "3          1000      0.000010              2.00     0.110934   0.138220\n",
       "5          1000      0.000050              2.00     0.131026   0.141469\n",
       "7          1000      0.000100              2.00     0.140077   0.144884\n",
       "0          1000      0.000005              0.01     0.161296   0.161594\n",
       "2          1000      0.000010              0.01     0.161461   0.161727\n",
       "4          1000      0.000050              0.01     0.161892   0.162622\n",
       "6          1000      0.000100              0.01     0.162522   0.162788"
      ]
     },
     "execution_count": 53,
     "metadata": {},
     "output_type": "execute_result"
    }
   ],
   "source": [
    "results_df = fit_rf(X, y, [1000], [0.000005,0.00001,0.00005,0.0001], [.01,2])\n",
    "results_df.sort_values('oob_error')"
   ]
  },
  {
   "cell_type": "markdown",
   "metadata": {},
   "source": [
    "We'll select the parameters that returned the lowest out-of-bag error and fit a Random Forest."
   ]
  },
  {
   "cell_type": "code",
   "execution_count": 54,
   "metadata": {
    "scrolled": true
   },
   "outputs": [
    {
     "data": {
      "text/plain": [
       "RandomForestClassifier(max_features='sqrt', min_impurity_decrease=5e-06,\n",
       "                       min_samples_leaf=2, n_estimators=1000, oob_score=True,\n",
       "                       random_state=2709)"
      ]
     },
     "execution_count": 54,
     "metadata": {},
     "output_type": "execute_result"
    }
   ],
   "source": [
    "rf = RandomForestClassifier(n_estimators=1000, min_impurity_decrease=.000005, min_samples_leaf=2,\n",
    "                            max_features='sqrt', oob_score=True, random_state=2709)\n",
    "rf.fit(X, y)\n"
   ]
  },
  {
   "cell_type": "markdown",
   "metadata": {},
   "source": [
    "Let's use our model to predict our current data set."
   ]
  },
  {
   "cell_type": "code",
   "execution_count": 55,
   "metadata": {},
   "outputs": [
    {
     "name": "stdout",
     "output_type": "stream",
     "text": [
      "Error:  0.10433658245474438 \n",
      "Out-of-bag Error: 0.13752403686758174\n"
     ]
    }
   ],
   "source": [
    "pred = rf.predict(X)\n",
    "error = sum(pred != y) / len(pred) \n",
    "oob_error = 1 - rf.oob_score_\n",
    "print('Error: ',error, '\\nOut-of-bag Error:', oob_error)"
   ]
  },
  {
   "cell_type": "markdown",
   "metadata": {},
   "source": [
    "The Out-of-bag Error give us a good idea of how our model will perform with another data set.\n",
    "\n",
    "Now let's check the important features."
   ]
  },
  {
   "cell_type": "code",
   "execution_count": 56,
   "metadata": {
    "scrolled": false
   },
   "outputs": [
    {
     "data": {
      "text/html": [
       "<div>\n",
       "<style scoped>\n",
       "    .dataframe tbody tr th:only-of-type {\n",
       "        vertical-align: middle;\n",
       "    }\n",
       "\n",
       "    .dataframe tbody tr th {\n",
       "        vertical-align: top;\n",
       "    }\n",
       "\n",
       "    .dataframe thead th {\n",
       "        text-align: right;\n",
       "    }\n",
       "</style>\n",
       "<table border=\"1\" class=\"dataframe\">\n",
       "  <thead>\n",
       "    <tr style=\"text-align: right;\">\n",
       "      <th></th>\n",
       "      <th>feat_import</th>\n",
       "    </tr>\n",
       "  </thead>\n",
       "  <tbody>\n",
       "    <tr>\n",
       "      <th>cptl_gain</th>\n",
       "      <td>0.145434</td>\n",
       "    </tr>\n",
       "    <tr>\n",
       "      <th>relat_Husb_Wife</th>\n",
       "      <td>0.117871</td>\n",
       "    </tr>\n",
       "    <tr>\n",
       "      <th>m_status_Married</th>\n",
       "      <td>0.106367</td>\n",
       "    </tr>\n",
       "    <tr>\n",
       "      <th>ed_years</th>\n",
       "      <td>0.098252</td>\n",
       "    </tr>\n",
       "    <tr>\n",
       "      <th>age</th>\n",
       "      <td>0.086565</td>\n",
       "    </tr>\n",
       "    <tr>\n",
       "      <th>work_hr</th>\n",
       "      <td>0.054095</td>\n",
       "    </tr>\n",
       "    <tr>\n",
       "      <th>final_wgt</th>\n",
       "      <td>0.052873</td>\n",
       "    </tr>\n",
       "    <tr>\n",
       "      <th>occ_high</th>\n",
       "      <td>0.050126</td>\n",
       "    </tr>\n",
       "    <tr>\n",
       "      <th>m_status_Never-married</th>\n",
       "      <td>0.039814</td>\n",
       "    </tr>\n",
       "    <tr>\n",
       "      <th>cptl_loss</th>\n",
       "      <td>0.037059</td>\n",
       "    </tr>\n",
       "    <tr>\n",
       "      <th>ed_HS_none</th>\n",
       "      <td>0.016622</td>\n",
       "    </tr>\n",
       "    <tr>\n",
       "      <th>ed_Bachelors</th>\n",
       "      <td>0.015158</td>\n",
       "    </tr>\n",
       "    <tr>\n",
       "      <th>occ_low</th>\n",
       "      <td>0.013769</td>\n",
       "    </tr>\n",
       "    <tr>\n",
       "      <th>m_status_Married_bef</th>\n",
       "      <td>0.013384</td>\n",
       "    </tr>\n",
       "    <tr>\n",
       "      <th>sex_Male</th>\n",
       "      <td>0.012738</td>\n",
       "    </tr>\n",
       "    <tr>\n",
       "      <th>ed_Prof_Phd</th>\n",
       "      <td>0.012031</td>\n",
       "    </tr>\n",
       "    <tr>\n",
       "      <th>sex_Female</th>\n",
       "      <td>0.011587</td>\n",
       "    </tr>\n",
       "    <tr>\n",
       "      <th>relat_Not-in-family</th>\n",
       "      <td>0.011081</td>\n",
       "    </tr>\n",
       "    <tr>\n",
       "      <th>relat_Own-child</th>\n",
       "      <td>0.009582</td>\n",
       "    </tr>\n",
       "    <tr>\n",
       "      <th>ed_HS-grad</th>\n",
       "      <td>0.009044</td>\n",
       "    </tr>\n",
       "    <tr>\n",
       "      <th>ed_Masters</th>\n",
       "      <td>0.008658</td>\n",
       "    </tr>\n",
       "    <tr>\n",
       "      <th>occ_lowh</th>\n",
       "      <td>0.007772</td>\n",
       "    </tr>\n",
       "    <tr>\n",
       "      <th>workclass_Self-emp-not-inc</th>\n",
       "      <td>0.007496</td>\n",
       "    </tr>\n",
       "    <tr>\n",
       "      <th>workclass_Private</th>\n",
       "      <td>0.006598</td>\n",
       "    </tr>\n",
       "    <tr>\n",
       "      <th>occ_mid</th>\n",
       "      <td>0.006052</td>\n",
       "    </tr>\n",
       "    <tr>\n",
       "      <th>workclass_Federal-gov</th>\n",
       "      <td>0.004680</td>\n",
       "    </tr>\n",
       "    <tr>\n",
       "      <th>workclass_Self-emp-inc</th>\n",
       "      <td>0.004654</td>\n",
       "    </tr>\n",
       "    <tr>\n",
       "      <th>occ_highl</th>\n",
       "      <td>0.004651</td>\n",
       "    </tr>\n",
       "    <tr>\n",
       "      <th>workclass_Gov_nofed</th>\n",
       "      <td>0.004622</td>\n",
       "    </tr>\n",
       "    <tr>\n",
       "      <th>ed_Some-college</th>\n",
       "      <td>0.004444</td>\n",
       "    </tr>\n",
       "    <tr>\n",
       "      <th>relat_Unmarried</th>\n",
       "      <td>0.004215</td>\n",
       "    </tr>\n",
       "    <tr>\n",
       "      <th>race_White</th>\n",
       "      <td>0.003893</td>\n",
       "    </tr>\n",
       "    <tr>\n",
       "      <th>native_mid</th>\n",
       "      <td>0.003073</td>\n",
       "    </tr>\n",
       "    <tr>\n",
       "      <th>native_low</th>\n",
       "      <td>0.002815</td>\n",
       "    </tr>\n",
       "    <tr>\n",
       "      <th>race_Black</th>\n",
       "      <td>0.002591</td>\n",
       "    </tr>\n",
       "    <tr>\n",
       "      <th>ed_Assoc</th>\n",
       "      <td>0.002573</td>\n",
       "    </tr>\n",
       "    <tr>\n",
       "      <th>native_midh</th>\n",
       "      <td>0.002210</td>\n",
       "    </tr>\n",
       "    <tr>\n",
       "      <th>race_Asian-Pac-Islander</th>\n",
       "      <td>0.001756</td>\n",
       "    </tr>\n",
       "    <tr>\n",
       "      <th>native_lowh</th>\n",
       "      <td>0.001187</td>\n",
       "    </tr>\n",
       "    <tr>\n",
       "      <th>race_Amer-Indian-Eskimo</th>\n",
       "      <td>0.000757</td>\n",
       "    </tr>\n",
       "    <tr>\n",
       "      <th>relat_Other-relative</th>\n",
       "      <td>0.000689</td>\n",
       "    </tr>\n",
       "    <tr>\n",
       "      <th>native_high</th>\n",
       "      <td>0.000686</td>\n",
       "    </tr>\n",
       "    <tr>\n",
       "      <th>race_Other</th>\n",
       "      <td>0.000444</td>\n",
       "    </tr>\n",
       "    <tr>\n",
       "      <th>workclass_No_job</th>\n",
       "      <td>0.000031</td>\n",
       "    </tr>\n",
       "  </tbody>\n",
       "</table>\n",
       "</div>"
      ],
      "text/plain": [
       "                            feat_import\n",
       "cptl_gain                      0.145434\n",
       "relat_Husb_Wife                0.117871\n",
       "m_status_Married               0.106367\n",
       "ed_years                       0.098252\n",
       "age                            0.086565\n",
       "work_hr                        0.054095\n",
       "final_wgt                      0.052873\n",
       "occ_high                       0.050126\n",
       "m_status_Never-married         0.039814\n",
       "cptl_loss                      0.037059\n",
       "ed_HS_none                     0.016622\n",
       "ed_Bachelors                   0.015158\n",
       "occ_low                        0.013769\n",
       "m_status_Married_bef           0.013384\n",
       "sex_Male                       0.012738\n",
       "ed_Prof_Phd                    0.012031\n",
       "sex_Female                     0.011587\n",
       "relat_Not-in-family            0.011081\n",
       "relat_Own-child                0.009582\n",
       "ed_HS-grad                     0.009044\n",
       "ed_Masters                     0.008658\n",
       "occ_lowh                       0.007772\n",
       "workclass_Self-emp-not-inc     0.007496\n",
       "workclass_Private              0.006598\n",
       "occ_mid                        0.006052\n",
       "workclass_Federal-gov          0.004680\n",
       "workclass_Self-emp-inc         0.004654\n",
       "occ_highl                      0.004651\n",
       "workclass_Gov_nofed            0.004622\n",
       "ed_Some-college                0.004444\n",
       "relat_Unmarried                0.004215\n",
       "race_White                     0.003893\n",
       "native_mid                     0.003073\n",
       "native_low                     0.002815\n",
       "race_Black                     0.002591\n",
       "ed_Assoc                       0.002573\n",
       "native_midh                    0.002210\n",
       "race_Asian-Pac-Islander        0.001756\n",
       "native_lowh                    0.001187\n",
       "race_Amer-Indian-Eskimo        0.000757\n",
       "relat_Other-relative           0.000689\n",
       "native_high                    0.000686\n",
       "race_Other                     0.000444\n",
       "workclass_No_job               0.000031"
      ]
     },
     "execution_count": 56,
     "metadata": {},
     "output_type": "execute_result"
    }
   ],
   "source": [
    "pd.DataFrame(rf.feature_importances_, index=X.columns.values, \n",
    "             columns=['feat_import']).sort_values('feat_import', ascending=False)"
   ]
  },
  {
   "cell_type": "markdown",
   "metadata": {},
   "source": [
    "The most important feature is **cptl_gain**, from which we noticed a cluster in our plots. We can also see some of the features we engineered in the most important such as: **relat_Husb_Wife** and **m_status_Married**"
   ]
  }
 ],
 "metadata": {
  "kernelspec": {
   "display_name": "Python 3",
   "language": "python",
   "name": "python3"
  },
  "language_info": {
   "codemirror_mode": {
    "name": "ipython",
    "version": 3
   },
   "file_extension": ".py",
   "mimetype": "text/x-python",
   "name": "python",
   "nbconvert_exporter": "python",
   "pygments_lexer": "ipython3",
   "version": "3.8.5"
  }
 },
 "nbformat": 4,
 "nbformat_minor": 4
}
