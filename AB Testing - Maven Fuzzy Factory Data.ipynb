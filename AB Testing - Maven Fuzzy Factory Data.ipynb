{
 "cells": [
  {
   "cell_type": "markdown",
   "metadata": {},
   "source": [
    "In this notebook we will be doing an A/B testing for the bounce rated of two home page from data set provided by Maven Analytics in their Udemy course \"Advanced SQL + MySQL for Analytics & Business Intelligence\", which contains data from an ecommerce store called \"Maven Fuzzy Factory\". "
   ]
  },
  {
   "cell_type": "code",
   "execution_count": 1,
   "metadata": {},
   "outputs": [],
   "source": [
    "import pandas as pd\n",
    "import numpy as np\n",
    "import mysql.connector\n",
    "import matplotlib.pyplot as plt"
   ]
  },
  {
   "cell_type": "markdown",
   "metadata": {},
   "source": [
    "## Getting the Data"
   ]
  },
  {
   "cell_type": "markdown",
   "metadata": {},
   "source": [
    "First we will use \"mysql.connector\" to access the data base and get the data we need.\n",
    "\n",
    "In '2012-06-19' Maven Fuzzy Factory decided to add a new home page to their website looking to improve the bouncing rates (the percentage of times that a person leaves the website) from their current home page called **\"/home\"**. We will collect the data of a little over 6 months (until another home page was added) and test if the new home page called **\"/lander-1\"** delivered better results."
   ]
  },
  {
   "cell_type": "code",
   "execution_count": 2,
   "metadata": {},
   "outputs": [],
   "source": [
    "temp_table = \"\"\"\n",
    "CREATE TEMPORARY TABLE entry_pageview\n",
    "SELECT \n",
    "    ws.website_session_id,\n",
    "    MIN(wp.website_pageview_id) AS entry_pageview_id\n",
    "FROM\n",
    "    website_sessions ws\n",
    "        INNER JOIN\n",
    "    website_pageviews wp ON ws.website_session_id = wp.website_session_id\n",
    "\tAND ws.created_at between '2012-06-19' AND '2013-01-12'\n",
    "GROUP BY 1;\n",
    "\"\"\"\n",
    "\n",
    "query = \"\"\"\n",
    "SELECT \n",
    "    MIN(created_at) AS view_date,\n",
    "    w.pageview_url,\n",
    "    CASE\n",
    "        WHEN COUNT(w.website_pageview_id) = 1 THEN 1\n",
    "        ELSE 0\n",
    "    END AS is_bounce\n",
    "FROM\n",
    "    entry_pageview e\n",
    "        LEFT JOIN\n",
    "    website_pageviews w ON e.website_session_id = w.website_session_id\n",
    "GROUP BY entry_pageview_id;\n",
    "\"\"\"\n",
    "\n",
    "connection = mysql.connector.connect(user='root', password='password',\n",
    "                                    host='localhost',\n",
    "                                    database='mavenfuzzyfactory')\n",
    "cursor = connection.cursor()\n",
    "\n",
    "cursor.execute(temp_table)\n",
    "cursor.execute(query)\n",
    "\n",
    "num_cols = len(cursor.description)\n",
    "col_names = [i[0] for i in cursor.description]\n",
    "df = cursor.fetchall()\n",
    "\n",
    "cursor.close()\n",
    "connection.close()"
   ]
  },
  {
   "cell_type": "markdown",
   "metadata": {},
   "source": [
    "Let's take a look at our data. A value of is_bounce=1 represents a bounced session (user session was terminated after visiting the homepage), and a value of is_bounce=0 non-bounced session.\n",
    "\n",
    "Sessions that started at another page different than **\"/home\"** and **\"/lander-1\"** were not taken into account."
   ]
  },
  {
   "cell_type": "code",
   "execution_count": 3,
   "metadata": {
    "scrolled": true
   },
   "outputs": [
    {
     "data": {
      "text/html": [
       "<div>\n",
       "<style scoped>\n",
       "    .dataframe tbody tr th:only-of-type {\n",
       "        vertical-align: middle;\n",
       "    }\n",
       "\n",
       "    .dataframe tbody tr th {\n",
       "        vertical-align: top;\n",
       "    }\n",
       "\n",
       "    .dataframe thead th {\n",
       "        text-align: right;\n",
       "    }\n",
       "</style>\n",
       "<table border=\"1\" class=\"dataframe\">\n",
       "  <thead>\n",
       "    <tr style=\"text-align: right;\">\n",
       "      <th></th>\n",
       "      <th>view_date</th>\n",
       "      <th>pageview_url</th>\n",
       "      <th>is_bounce</th>\n",
       "    </tr>\n",
       "  </thead>\n",
       "  <tbody>\n",
       "    <tr>\n",
       "      <th>0</th>\n",
       "      <td>2012-06-19 00:35:54</td>\n",
       "      <td>/lander-1</td>\n",
       "      <td>1</td>\n",
       "    </tr>\n",
       "    <tr>\n",
       "      <th>1</th>\n",
       "      <td>2012-06-19 00:48:25</td>\n",
       "      <td>/home</td>\n",
       "      <td>1</td>\n",
       "    </tr>\n",
       "    <tr>\n",
       "      <th>2</th>\n",
       "      <td>2012-06-19 01:02:38</td>\n",
       "      <td>/lander-1</td>\n",
       "      <td>1</td>\n",
       "    </tr>\n",
       "    <tr>\n",
       "      <th>3</th>\n",
       "      <td>2012-06-19 01:31:57</td>\n",
       "      <td>/lander-1</td>\n",
       "      <td>0</td>\n",
       "    </tr>\n",
       "    <tr>\n",
       "      <th>4</th>\n",
       "      <td>2012-06-19 01:36:39</td>\n",
       "      <td>/home</td>\n",
       "      <td>1</td>\n",
       "    </tr>\n",
       "  </tbody>\n",
       "</table>\n",
       "</div>"
      ],
      "text/plain": [
       "            view_date pageview_url  is_bounce\n",
       "0 2012-06-19 00:35:54    /lander-1          1\n",
       "1 2012-06-19 00:48:25        /home          1\n",
       "2 2012-06-19 01:02:38    /lander-1          1\n",
       "3 2012-06-19 01:31:57    /lander-1          0\n",
       "4 2012-06-19 01:36:39        /home          1"
      ]
     },
     "execution_count": 3,
     "metadata": {},
     "output_type": "execute_result"
    }
   ],
   "source": [
    "df = pd.DataFrame(df, columns=col_names)\n",
    "df.head()"
   ]
  },
  {
   "cell_type": "markdown",
   "metadata": {},
   "source": [
    "# 1st Month\n",
    "Let's get the performance over the first month"
   ]
  },
  {
   "cell_type": "code",
   "execution_count": 4,
   "metadata": {},
   "outputs": [
    {
     "name": "stdout",
     "output_type": "stream",
     "text": [
      "home:\n",
      "Bounce Rate: 0.5433, Page Visits: 2240\n",
      "lander-1:\n",
      "Bounce Rate: 0.5462, Page Visits: 1796\n"
     ]
    }
   ],
   "source": [
    "df_month1 = df.query(\"view_date <= '2012-07-19'\")\n",
    "\n",
    "home = df_month1.query(\"pageview_url == '/home'\").is_bounce.values\n",
    "p1 = np.mean(home)\n",
    "n1 = len(home)\n",
    "\n",
    "lander_1 = df_month1.query(\"pageview_url == '/lander-1'\").is_bounce.values\n",
    "p2 = np.mean(lander_1)\n",
    "n2 = len(lander_1)\n",
    "\n",
    "print(f'home:\\nBounce Rate: {p1:.4f}, Page Visits: {n1}',)\n",
    "print(f'lander-1:\\nBounce Rate: {p2:.4f}, Page Visits: {n2}',)"
   ]
  },
  {
   "cell_type": "markdown",
   "metadata": {},
   "source": [
    "We can see that their performance is very similiar. We'll run our hypothesis test to make sure that there is not a significant difference, but before we have to check if our samples are big enough in order for to use the normal distribution.\n",
    "\n",
    "We'll check that\n",
    "$$\\left[\\hat{p}-3 \\sqrt{\\frac{\\hat{p}(1-\\hat{p}}{n}}, \\hat{p}+3 \\sqrt{\\frac{\\hat{p}(1-\\hat{p}}{n}} \\right] \\subset [0,1]$$\n",
    "\n",
    "for each page."
   ]
  },
  {
   "cell_type": "code",
   "execution_count": 5,
   "metadata": {},
   "outputs": [],
   "source": [
    "def var(p,n):\n",
    "    s = (p*(1-p))/n\n",
    "    return s "
   ]
  },
  {
   "cell_type": "code",
   "execution_count": 6,
   "metadata": {},
   "outputs": [
    {
     "name": "stdout",
     "output_type": "stream",
     "text": [
      "home: (0.5117,0.5749)\n",
      "lander: (0.5110,0.5815)\n",
      "\n",
      "Both intervals are inside the interval [0,1]\n"
     ]
    }
   ],
   "source": [
    "h_low, h_up = p1-3*np.sqrt(var(p1,n1)),p1+3*np.sqrt(var(p1,n1))\n",
    "l_low, l_up = p2-3*np.sqrt(var(p2,n2)),p2+3*np.sqrt(var(p2,n2))\n",
    "\n",
    "print(f'home: ({h_low:.4f},{h_up:.4f})')\n",
    "print(f'lander: ({l_low:.4f},{l_up:.4f})')\n",
    "print('\\nBoth intervals are inside the interval [0,1]')"
   ]
  },
  {
   "cell_type": "markdown",
   "metadata": {},
   "source": [
    "## Hypothesis Testing\n",
    "We want to test if the bounce rate for \"lander-1\" is different from the bounce rate of \"/home\" at a .05 level of significance. We'll let p1 be the bouncing rate of \"/home\" and p2 be bouncing rate of \"lander-1\".\n",
    "\n",
    "Then our hypothesis will be formulated as follows:\n",
    "\n",
    "$$H_0: p_1 - p_2 = 0$$\n",
    "$$H_a: p_1 - p_2 > 0 $$\n",
    "$$\\alpha=.05$$"
   ]
  },
  {
   "cell_type": "markdown",
   "metadata": {},
   "source": [
    "Let's proceed to our test:"
   ]
  },
  {
   "cell_type": "code",
   "execution_count": 7,
   "metadata": {},
   "outputs": [],
   "source": [
    "from scipy.stats import norm"
   ]
  },
  {
   "cell_type": "code",
   "execution_count": 8,
   "metadata": {},
   "outputs": [
    {
     "name": "stdout",
     "output_type": "stream",
     "text": [
      "Z: -0.1845\n",
      "p_value: 0.5731935645926902\n",
      "alpha: 0.0500\n",
      "0.5732 > 0.05\n",
      "Failed to Reject Null Hypothesis\n"
     ]
    }
   ],
   "source": [
    "alpha = .05\n",
    "z = ((p1-p2) - 0) / np.sqrt(var(p1,n1)+var(p2,n2))\n",
    "p_value = 1 - norm.cdf(z)\n",
    "\n",
    "print(f'Z: {z:.4f}')\n",
    "print(f'p_value: {p_value}\\nalpha: {alpha:.4f}')\n",
    "print(f'{p_value:.4f} > {alpha}')\n",
    "print('Failed to Reject Null Hypothesis')"
   ]
  },
  {
   "cell_type": "markdown",
   "metadata": {},
   "source": [
    "For the first month at a 5% level of significance we can conclude that \"\\lander-1\" is not performing better than \"\\home\"\n",
    "\n",
    "Let's analyze the data for the full experiment (about 6 months until an additional home page was introduced), and plot the weekly bounce rates of each home page.\n",
    "\n",
    "We'll need a new querie for that."
   ]
  },
  {
   "cell_type": "markdown",
   "metadata": {},
   "source": [
    "# Six Months"
   ]
  },
  {
   "cell_type": "code",
   "execution_count": 9,
   "metadata": {},
   "outputs": [],
   "source": [
    "# Get entry page_view per session \n",
    "temp_table1 = \"\"\"\n",
    "CREATE TEMPORARY TABLE entry_pageview\n",
    "SELECT \n",
    "    ws.website_session_id,\n",
    "    MIN(wp.website_pageview_id) AS entry_pageview_id\n",
    "FROM\n",
    "    website_sessions ws\n",
    "        INNER JOIN\n",
    "    website_pageviews wp ON ws.website_session_id = wp.website_session_id\n",
    "        AND ws.created_at BETWEEN '2012-06-19' AND '2013-01-12'\n",
    "GROUP BY 1;\n",
    "\"\"\"\n",
    "\n",
    "# Get table of weekly sessions and bounce sessions per page\n",
    "temp_table2 = \"\"\"\n",
    "CREATE TEMPORARY TABLE weekly_sessions_bounced\n",
    "SELECT \n",
    "    pageview_url,\n",
    "    WEEK(created_at) AS week_,\n",
    "    min(date(created_at)) AS week_date, \n",
    "    COUNT(website_session_id) AS sessions,\n",
    "    SUM(is_bounce) AS bounced_sessions\n",
    "FROM\n",
    "    (SELECT \n",
    "        e.website_session_Id,\n",
    "            w.created_at,\n",
    "            w.pageview_url,\n",
    "            CASE\n",
    "                WHEN COUNT(w.website_pageview_id) = 1 THEN 1\n",
    "                ELSE 0\n",
    "            END AS is_bounce\n",
    "    FROM\n",
    "        entry_pageview e\n",
    "    LEFT JOIN website_pageviews w ON e.website_session_id = w.website_session_id\n",
    "    GROUP BY entry_pageview_id) AS session_isbounce\n",
    "GROUP BY 1 , 2;\n",
    "\n",
    "\"\"\"\n",
    "\n",
    "# Set variables for cumulative sum\n",
    "variables = \"\"\"\n",
    "SET \n",
    "    @cum_sessions_home := 0,\n",
    "    @cum_sessions_lander := 0,\n",
    "    @cum_bounced_home := 0,\n",
    "    @cum_bounced_lander := 0;\n",
    "\"\"\"\n",
    "\n",
    "# add cumulative sum for sessions and bounce sessions, and cumulative bounce rate\n",
    "query = \"\"\"\n",
    "SELECT \n",
    "    q.*, cum_bounced / cum_sessions AS cum_bounce_rate\n",
    "FROM\n",
    "    (SELECT \n",
    "        w.*,\n",
    "            CASE\n",
    "                WHEN w.pageview_url = '/home' THEN (@cum_sessions_home:=@cum_sessions_home + w.sessions)\n",
    "                ELSE (@cum_sessions_lander:=@cum_sessions_lander + w.sessions)\n",
    "            END AS cum_sessions,\n",
    "            CASE\n",
    "                WHEN w.pageview_url = '/home' THEN (@cum_bounced_home:=@cum_bounced_home + w.bounced_sessions)\n",
    "                ELSE (@cum_bounced_lander:=@cum_bounced_lander + w.bounced_sessions)\n",
    "            END AS cum_bounced\n",
    "    FROM\n",
    "        weekly_sessions_bounced w\n",
    "    ORDER BY w.pageview_url , cum_sessions ASC) AS q;\n",
    "\n",
    "\"\"\"\n",
    "\n",
    "connection = mysql.connector.connect(user='root', password='password',\n",
    "                                    host='localhost',\n",
    "                                    database='mavenfuzzyfactory')\n",
    "cursor = connection.cursor()\n",
    "\n",
    "cursor.execute(temp_table1)\n",
    "cursor.execute(temp_table2)\n",
    "cursor.execute(variables)\n",
    "cursor.execute(query)\n",
    "\n",
    "num_cols = len(cursor.description)\n",
    "col_names = [i[0] for i in cursor.description]\n",
    "df_cum = cursor.fetchall()\n",
    "\n",
    "cursor.close()\n",
    "connection.close()"
   ]
  },
  {
   "cell_type": "code",
   "execution_count": 10,
   "metadata": {},
   "outputs": [],
   "source": [
    "df_cum = pd.DataFrame(df_cum, columns=col_names)\n",
    "df_home_cum = df_cum.query(\"pageview_url == '/home'\")\n",
    "df_lander1_cum = df_cum.query(\"pageview_url == '/lander-1'\")"
   ]
  },
  {
   "cell_type": "code",
   "execution_count": 11,
   "metadata": {},
   "outputs": [
    {
     "data": {
      "text/html": [
       "<div>\n",
       "<style scoped>\n",
       "    .dataframe tbody tr th:only-of-type {\n",
       "        vertical-align: middle;\n",
       "    }\n",
       "\n",
       "    .dataframe tbody tr th {\n",
       "        vertical-align: top;\n",
       "    }\n",
       "\n",
       "    .dataframe thead th {\n",
       "        text-align: right;\n",
       "    }\n",
       "</style>\n",
       "<table border=\"1\" class=\"dataframe\">\n",
       "  <thead>\n",
       "    <tr style=\"text-align: right;\">\n",
       "      <th></th>\n",
       "      <th>pageview_url</th>\n",
       "      <th>week_</th>\n",
       "      <th>week_date</th>\n",
       "      <th>sessions</th>\n",
       "      <th>bounced_sessions</th>\n",
       "      <th>cum_sessions</th>\n",
       "      <th>cum_bounced</th>\n",
       "      <th>cum_bounce_rate</th>\n",
       "    </tr>\n",
       "  </thead>\n",
       "  <tbody>\n",
       "    <tr>\n",
       "      <th>0</th>\n",
       "      <td>/home</td>\n",
       "      <td>25</td>\n",
       "      <td>2012-06-19</td>\n",
       "      <td>397</td>\n",
       "      <td>204</td>\n",
       "      <td>397</td>\n",
       "      <td>204</td>\n",
       "      <td>0.5139</td>\n",
       "    </tr>\n",
       "    <tr>\n",
       "      <th>1</th>\n",
       "      <td>/home</td>\n",
       "      <td>26</td>\n",
       "      <td>2012-06-24</td>\n",
       "      <td>497</td>\n",
       "      <td>268</td>\n",
       "      <td>894</td>\n",
       "      <td>472</td>\n",
       "      <td>0.5280</td>\n",
       "    </tr>\n",
       "    <tr>\n",
       "      <th>2</th>\n",
       "      <td>/home</td>\n",
       "      <td>27</td>\n",
       "      <td>2012-07-01</td>\n",
       "      <td>504</td>\n",
       "      <td>280</td>\n",
       "      <td>1398</td>\n",
       "      <td>752</td>\n",
       "      <td>0.5379</td>\n",
       "    </tr>\n",
       "    <tr>\n",
       "      <th>3</th>\n",
       "      <td>/home</td>\n",
       "      <td>28</td>\n",
       "      <td>2012-07-08</td>\n",
       "      <td>514</td>\n",
       "      <td>285</td>\n",
       "      <td>1912</td>\n",
       "      <td>1037</td>\n",
       "      <td>0.5424</td>\n",
       "    </tr>\n",
       "    <tr>\n",
       "      <th>4</th>\n",
       "      <td>/home</td>\n",
       "      <td>29</td>\n",
       "      <td>2012-07-15</td>\n",
       "      <td>566</td>\n",
       "      <td>306</td>\n",
       "      <td>2478</td>\n",
       "      <td>1343</td>\n",
       "      <td>0.5420</td>\n",
       "    </tr>\n",
       "    <tr>\n",
       "      <th>...</th>\n",
       "      <td>...</td>\n",
       "      <td>...</td>\n",
       "      <td>...</td>\n",
       "      <td>...</td>\n",
       "      <td>...</td>\n",
       "      <td>...</td>\n",
       "      <td>...</td>\n",
       "      <td>...</td>\n",
       "    </tr>\n",
       "    <tr>\n",
       "      <th>57</th>\n",
       "      <td>/lander-1</td>\n",
       "      <td>51</td>\n",
       "      <td>2012-12-16</td>\n",
       "      <td>2212</td>\n",
       "      <td>1178</td>\n",
       "      <td>39447</td>\n",
       "      <td>20999</td>\n",
       "      <td>0.5323</td>\n",
       "    </tr>\n",
       "    <tr>\n",
       "      <th>58</th>\n",
       "      <td>/lander-1</td>\n",
       "      <td>52</td>\n",
       "      <td>2012-12-23</td>\n",
       "      <td>1233</td>\n",
       "      <td>660</td>\n",
       "      <td>40680</td>\n",
       "      <td>21659</td>\n",
       "      <td>0.5324</td>\n",
       "    </tr>\n",
       "    <tr>\n",
       "      <th>59</th>\n",
       "      <td>/lander-1</td>\n",
       "      <td>53</td>\n",
       "      <td>2012-12-30</td>\n",
       "      <td>192</td>\n",
       "      <td>97</td>\n",
       "      <td>40872</td>\n",
       "      <td>21756</td>\n",
       "      <td>0.5323</td>\n",
       "    </tr>\n",
       "    <tr>\n",
       "      <th>60</th>\n",
       "      <td>/lander-1</td>\n",
       "      <td>0</td>\n",
       "      <td>2013-01-01</td>\n",
       "      <td>736</td>\n",
       "      <td>378</td>\n",
       "      <td>41608</td>\n",
       "      <td>22134</td>\n",
       "      <td>0.5320</td>\n",
       "    </tr>\n",
       "    <tr>\n",
       "      <th>61</th>\n",
       "      <td>/lander-1</td>\n",
       "      <td>1</td>\n",
       "      <td>2013-01-06</td>\n",
       "      <td>871</td>\n",
       "      <td>450</td>\n",
       "      <td>42479</td>\n",
       "      <td>22584</td>\n",
       "      <td>0.5317</td>\n",
       "    </tr>\n",
       "  </tbody>\n",
       "</table>\n",
       "<p>62 rows × 8 columns</p>\n",
       "</div>"
      ],
      "text/plain": [
       "   pageview_url  week_   week_date  sessions bounced_sessions  cum_sessions  \\\n",
       "0         /home     25  2012-06-19       397              204           397   \n",
       "1         /home     26  2012-06-24       497              268           894   \n",
       "2         /home     27  2012-07-01       504              280          1398   \n",
       "3         /home     28  2012-07-08       514              285          1912   \n",
       "4         /home     29  2012-07-15       566              306          2478   \n",
       "..          ...    ...         ...       ...              ...           ...   \n",
       "57    /lander-1     51  2012-12-16      2212             1178         39447   \n",
       "58    /lander-1     52  2012-12-23      1233              660         40680   \n",
       "59    /lander-1     53  2012-12-30       192               97         40872   \n",
       "60    /lander-1      0  2013-01-01       736              378         41608   \n",
       "61    /lander-1      1  2013-01-06       871              450         42479   \n",
       "\n",
       "   cum_bounced cum_bounce_rate  \n",
       "0          204          0.5139  \n",
       "1          472          0.5280  \n",
       "2          752          0.5379  \n",
       "3         1037          0.5424  \n",
       "4         1343          0.5420  \n",
       "..         ...             ...  \n",
       "57       20999          0.5323  \n",
       "58       21659          0.5324  \n",
       "59       21756          0.5323  \n",
       "60       22134          0.5320  \n",
       "61       22584          0.5317  \n",
       "\n",
       "[62 rows x 8 columns]"
      ]
     },
     "execution_count": 11,
     "metadata": {},
     "output_type": "execute_result"
    }
   ],
   "source": [
    "df_cum"
   ]
  },
  {
   "cell_type": "markdown",
   "metadata": {},
   "source": [
    "## Data Visualization"
   ]
  },
  {
   "cell_type": "code",
   "execution_count": 12,
   "metadata": {},
   "outputs": [
    {
     "data": {
      "image/png": "[encoded data removed]",
      "text/plain": [
       "<Figure size 1152x432 with 2 Axes>"
      ]
     },
     "metadata": {
      "needs_background": "light"
     },
     "output_type": "display_data"
    }
   ],
   "source": [
    "fig, ax = plt.subplots(1,2,figsize=(16,6))\n",
    "ax[0].plot(df_home_cum.week_date,df_home_cum.cum_bounce_rate, label='/home')\n",
    "ax[0].plot(df_lander1_cum.week_date,df_lander1_cum.cum_bounce_rate, label='/lander-1')\n",
    "ax[0].set_xlabel('Date', size=14)\n",
    "ax[0].set_ylabel('Bounce Rate', size=14)\n",
    "ax[0].set_title('Bounce Rate vs Date', size=15)\n",
    "ax[0].legend();\n",
    "\n",
    "ax[1].plot(df_home_cum.week_date,df_home_cum.cum_sessions, label='/home')\n",
    "ax[1].plot(df_lander1_cum.week_date,df_lander1_cum.cum_sessions, label='/lander-1')\n",
    "ax[1].set_xlabel('Date', size=14)\n",
    "ax[1].set_ylabel('Sessions', size=14)\n",
    "ax[1].set_title('Number of Sessions vs Date', size=15)\n",
    "ax[1].legend();"
   ]
  },
  {
   "cell_type": "markdown",
   "metadata": {},
   "source": [
    "We can see that although \"/lander-1\" seemed to be performing better at the beginnig, in the long run the bounce rate \"/home\"  decreace steadily and ended up lower. We can also observe that \"/lander-1\" had way more sessions that \"/home\", about 30,000 more.\n",
    "\n",
    "Let's perform our hypothesis testing. We'll use the same formulated hypothesis."
   ]
  },
  {
   "cell_type": "markdown",
   "metadata": {},
   "source": [
    "## Hypothesis Testing"
   ]
  },
  {
   "cell_type": "code",
   "execution_count": 13,
   "metadata": {},
   "outputs": [
    {
     "name": "stdout",
     "output_type": "stream",
     "text": [
      "home:\n",
      "Bounce Rate: 0.4362, Page Visits: 10616\n",
      "lander-1:\n",
      "Bounce Rate: 0.5317, Page Visits: 42479\n"
     ]
    }
   ],
   "source": [
    "home = df.query(\"pageview_url == '/home'\").is_bounce.values\n",
    "p1 = np.mean(home)\n",
    "n1 = len(home)\n",
    "\n",
    "lander_1 = df.query(\"pageview_url == '/lander-1'\").is_bounce.values\n",
    "p2 = np.mean(lander_1)\n",
    "n2 = len(lander_1)\n",
    "\n",
    "print(f'home:\\nBounce Rate: {p1:.4f}, Page Visits: {n1}',)\n",
    "print(f'lander-1:\\nBounce Rate: {p2:.4f}, Page Visits: {n2}',)"
   ]
  },
  {
   "cell_type": "markdown",
   "metadata": {},
   "source": [
    "Again we need to check if our sample is big enough."
   ]
  },
  {
   "cell_type": "code",
   "execution_count": 14,
   "metadata": {},
   "outputs": [
    {
     "name": "stdout",
     "output_type": "stream",
     "text": [
      "home: (0.4218,0.4507)\n",
      "lander: (0.5244,0.5389)\n",
      "\n",
      "Both intervals are inside the interval [0,1]\n"
     ]
    }
   ],
   "source": [
    "h_low, h_up = p1-3*np.sqrt(var(p1,n1)),p1+3*np.sqrt(var(p1,n1))\n",
    "l_low, l_up = p2-3*np.sqrt(var(p2,n2)),p2+3*np.sqrt(var(p2,n2))\n",
    "\n",
    "print(f'home: ({h_low:.4f},{h_up:.4f})')\n",
    "print(f'lander: ({l_low:.4f},{l_up:.4f})')\n",
    "print('\\nBoth intervals are inside the interval [0,1]')"
   ]
  },
  {
   "cell_type": "markdown",
   "metadata": {},
   "source": [
    "We'll procede to compute the test."
   ]
  },
  {
   "cell_type": "code",
   "execution_count": 15,
   "metadata": {},
   "outputs": [
    {
     "name": "stdout",
     "output_type": "stream",
     "text": [
      "Z-value: -17.7110\n",
      "p-value: 1.0000\n",
      "alpha: 0.05\n",
      "1.0000 > 0.05\n",
      "Failed to Reject Null Hypothesis\n"
     ]
    }
   ],
   "source": [
    "alpha = .05\n",
    "z = ((p1-p2) - 0) / np.sqrt(var(p1,n1)+var(p2,n2))\n",
    "p_value = 1 - norm.cdf(z)\n",
    "\n",
    "print(f'Z-value: {z:.4f}')\n",
    "print(f'p-value: {p_value:.4f}\\nalpha: {alpha}')\n",
    "print(f'{p_value:.4f} > {alpha}')\n",
    "print('Failed to Reject Null Hypothesis')"
   ]
  },
  {
   "cell_type": "markdown",
   "metadata": {},
   "source": [
    "As expected, we failed to reject the null hypothesis again. The p-value=1 shows that, as we saw in our plot, there is overwhelmingly evidence that the bounce rate of \"/lander\" is not less than the bounce rate of \"/home\"\n",
    "\n",
    "Let'se see what the overall bounce rate was."
   ]
  },
  {
   "cell_type": "code",
   "execution_count": 16,
   "metadata": {},
   "outputs": [
    {
     "name": "stdout",
     "output_type": "stream",
     "text": [
      "Overall Bounce Rate: 0.5126\n",
      "Total Sessions: 53095\n"
     ]
    }
   ],
   "source": [
    "b_rate = np.sum(df.is_bounce)/len(df.is_bounce)\n",
    "n = len(df)\n",
    "\n",
    "print(f'Overall Bounce Rate: {b_rate:.4f}')\n",
    "print(f'Total Sessions: {n}')"
   ]
  },
  {
   "cell_type": "markdown",
   "metadata": {},
   "source": [
    "We got a overall bounce rate of 51.26% for our landing pages, which is not very good. Note that \"/lander-1\" was excesively used and turned out not to be the optimal landing page. This could've been avoided using an optimization algorithm.  "
   ]
  },
  {
   "cell_type": "markdown",
   "metadata": {},
   "source": [
    "## Bayesian Bandits"
   ]
  },
  {
   "cell_type": "markdown",
   "metadata": {},
   "source": [
    "We'll run an experiment using Bayesian Bandits to show the optimal landing page most of the times.\n",
    "\n",
    "We will use the Bayes Theorem to estimate the bounce rate for each landing page.\n",
    "\n",
    "$$ p(\\theta|X)\\: \\alpha\\: p(X|\\theta)p(\\theta)$$\n",
    "\n",
    "Since we are dealing with a Bernoulli likelihood $p(X|\\theta)$, we'll use a Beta distribution (its conjugate prior) to calculate the posterior $p(\\theta|X)$\n",
    "\n",
    "$$ p(\\theta|X) = Beta(\\alpha\\, +\\, \\Sigma_{i=1}^Nx_i,\\, \\beta\\, +\\, N\\, -\\, \\Sigma_{i=1}^Nx_i )$$\n",
    "\n",
    "We'll use our calculated bounce rates as our true rates to simulate the outcome for each page view. Then, from each lander, we'll take a sample coming from a Beta distribution and \"show\" the sampler with the smaller one (Thompson Sampling). As the experiment progresses the parameters from the beta distribution will be updated according to the outcome and each lander will approach their true rates. "
   ]
  },
  {
   "cell_type": "code",
   "execution_count": 17,
   "metadata": {},
   "outputs": [],
   "source": [
    "from scipy.stats import beta"
   ]
  },
  {
   "cell_type": "code",
   "execution_count": 18,
   "metadata": {},
   "outputs": [],
   "source": [
    "class Lander:\n",
    "    def __init__(self, p):\n",
    "        self.p = p\n",
    "        self.a = 1\n",
    "        self.b = 1\n",
    "        self.N = 0 \n",
    "        \n",
    "    def pull(self):\n",
    "        return np.random.random() < self.p\n",
    "    \n",
    "    def sample(self):\n",
    "        return np.random.beta(self.a, self.b)\n",
    "    \n",
    "    # for online updating we are computing the posterior in terms of a single sample.\n",
    "    def update(self, x):\n",
    "        self.a += x\n",
    "        self.b = self.b + 1 - x\n",
    "        self.N += 1"
   ]
  },
  {
   "cell_type": "code",
   "execution_count": 19,
   "metadata": {},
   "outputs": [],
   "source": [
    "def plot(landers, trial):\n",
    "    \n",
    "    x = np.linspace(0,1,200)\n",
    "    home, lander = landers[0], landers[1]\n",
    "    br_home = (home.a - 1)/home.N\n",
    "    br_lander = (lander.a - 1)/lander.N\n",
    "    y_home = beta.pdf(x, home.a, home.b)\n",
    "    y_lander = beta.pdf(x, lander.a, lander.b)\n",
    "    \n",
    "    fig = plt.subplots(figsize=(7,5))\n",
    "    plt.plot(x, y_home, label=f'/home: bounce rate = {br_home:.4f}, sessions = {home.N}') \n",
    "    plt.plot(x, y_lander, label=f'/lander-1: bounce rate = {br_lander:.4f}, sessions = {lander.N}') \n",
    "    plt.title(f\"Landers distributions after {trial} sessions\")\n",
    "    plt.legend(loc='best')\n",
    "    plt.show()   "
   ]
  },
  {
   "cell_type": "code",
   "execution_count": 20,
   "metadata": {
    "scrolled": false
   },
   "outputs": [
    {
     "data": {
      "image/png": "[encoded data removed]",
      "text/plain": [
       "<Figure size 504x360 with 1 Axes>"
      ]
     },
     "metadata": {
      "needs_background": "light"
     },
     "output_type": "display_data"
    },
    {
     "data": {
      "image/png": "[encoded data removed]",
      "text/plain": [
       "<Figure size 504x360 with 1 Axes>"
      ]
     },
     "metadata": {
      "needs_background": "light"
     },
     "output_type": "display_data"
    },
    {
     "data": {
      "image/png": "[encoded data removed]",
      "text/plain": [
       "<Figure size 504x360 with 1 Axes>"
      ]
     },
     "metadata": {
      "needs_background": "light"
     },
     "output_type": "display_data"
    },
    {
     "data": {
      "image/png": "[encoded data removed]",
      "text/plain": [
       "<Figure size 504x360 with 1 Axes>"
      ]
     },
     "metadata": {
      "needs_background": "light"
     },
     "output_type": "display_data"
    },
    {
     "data": {
      "image/png": "[encoded data removed]",
      "text/plain": [
       "<Figure size 504x360 with 1 Axes>"
      ]
     },
     "metadata": {
      "needs_background": "light"
     },
     "output_type": "display_data"
    },
    {
     "name": "stdout",
     "output_type": "stream",
     "text": [
      "Overall Bounce Rate: 0.4364\n"
     ]
    }
   ],
   "source": [
    "plot_points = [int(i) for i in np.linspace(1000,len(df)-1,5)]\n",
    "\n",
    "home = Lander(p1)\n",
    "lander_1 = Lander(p2)\n",
    "landers = [home,lander_1]\n",
    "is_bounce = []\n",
    "\n",
    "for i in range(len(df)):\n",
    "    # Thompson sampling\n",
    "    j = np.argmin([lander.sample() for lander in landers])\n",
    "    \n",
    "    # plot the posteriors\n",
    "    if i in plot_points:\n",
    "        plot(landers, i)\n",
    "    \n",
    "    # pull the arm from the bandit with the smaller sample\n",
    "    x = landers[j].pull()\n",
    "    \n",
    "    # update outcome\n",
    "    is_bounce.append(x)\n",
    "    \n",
    "    # update the distribution for the bandit whose arm was pulled\n",
    "    landers[j].update(x)\n",
    "    \n",
    "print(f'Overall Bounce Rate: {np.sum(is_bounce)/len(is_bounce):.4f}')"
   ]
  },
  {
   "cell_type": "markdown",
   "metadata": {},
   "source": [
    "We can see how each lander approaches its true rate. and \"/home\" gets selected way more because the sample drawn from its Beta distribution has a higher probablitity to be the lower one. This also lowered the overall bounce rate to 43.64%"
   ]
  }
 ],
 "metadata": {
  "kernelspec": {
   "display_name": "Python 3",
   "language": "python",
   "name": "python3"
  },
  "language_info": {
   "codemirror_mode": {
    "name": "ipython",
    "version": 3
   },
   "file_extension": ".py",
   "mimetype": "text/x-python",
   "name": "python",
   "nbconvert_exporter": "python",
   "pygments_lexer": "ipython3",
   "version": "3.8.5"
  }
 },
 "nbformat": 4,
 "nbformat_minor": 4
}
